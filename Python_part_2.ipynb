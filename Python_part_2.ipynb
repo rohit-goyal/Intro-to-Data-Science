{
  "cells": [
    {
      "cell_type": "markdown",
      "metadata": {
        "id": "view-in-github",
        "colab_type": "text"
      },
      "source": [
        "<a href=\"https://colab.research.google.com/github/rohit-goyal/Intro-to-Data-Science/blob/main/Python_part_2.ipynb\" target=\"_parent\"><img src=\"https://colab.research.google.com/assets/colab-badge.svg\" alt=\"Open In Colab\"/></a>"
      ]
    },
    {
      "cell_type": "code",
      "execution_count": null,
      "metadata": {
        "id": "nNo19Slrn8Q2"
      },
      "outputs": [],
      "source": [
        "## BOOLEAN ALGEBRA\n",
        "\n",
        "0   0000 0000\n",
        "1   0000 0001\n",
        "2   0000 0010\n",
        "3   0000 0011\n",
        "4   0000 0100\n",
        "5   0000 0101\n",
        "6   0000 0110\n",
        "7   0000 0111\n",
        "\n",
        "# 8 bits are 1 byte"
      ]
    },
    {
      "cell_type": "code",
      "execution_count": null,
      "metadata": {
        "id": "euIXUlXQn8RB",
        "outputId": "70d15bd9-ea97-4831-bb76-2052275d6f72"
      },
      "outputs": [
        {
          "name": "stdout",
          "output_type": "stream",
          "text": [
            "<class 'str'>\n",
            "<class 'int'>\n",
            "Country: India Population: 1.3B Capital: Delhi States: 29\n",
            "Country: USA Population: 360M Capital: DC States: 50\n",
            "200\n"
          ]
        },
        {
          "data": {
            "text/plain": [
              "NoneType"
            ]
          },
          "execution_count": 44,
          "metadata": {},
          "output_type": "execute_result"
        }
      ],
      "source": [
        "# VARIABLE AND DATATYPES\n",
        "variable1 = \"India\"\n",
        "print(type(variable1))\n",
        "variable2 = 2\n",
        "\n",
        "variable1 = 1\n",
        "print(type(variable1))\n",
        "\n",
        "# String\n",
        "str1 = \"ABCDazdbd-23|{}\"\n",
        "\n",
        "str2 = \"India\"\n",
        "str3 = 'Country: {} Population: {} Capital: {} States: {}'\n",
        "print(str3.format(\"India\", \"1.3B\", \"Delhi\", \"29\"))\n",
        "print(str3.format(\"USA\", \"360M\", \"DC\", \"50\"))\n",
        "()\n",
        "\n",
        "\n",
        "# print(str3)\n",
        "# str = f'Country: {str2}'\n",
        "# print(str3)\n",
        "# Integer\n",
        "# -2^16 to +2^16\n",
        "x = 10\n",
        "y = 20\n",
        "print(x*y)\n",
        "# Boolean\n",
        "x = True\n",
        "y = False\n",
        "\n",
        "# Floating point\n",
        "# -2^32 to +2^32\n",
        "x = 1.5\n",
        "# Double\n",
        "# -2^64 to +2^64\n",
        "x = 1.0000000000000000000000002\n",
        "\n",
        "# None or NULL or NaN\n",
        "type(None)"
      ]
    },
    {
      "cell_type": "code",
      "execution_count": null,
      "metadata": {
        "id": "0MVTMciXn8RG",
        "outputId": "bc43b827-816c-4f10-d978-dfc1cfde241c"
      },
      "outputs": [
        {
          "data": {
            "text/plain": [
              "False"
            ]
          },
          "execution_count": 16,
          "metadata": {},
          "output_type": "execute_result"
        }
      ],
      "source": [
        "# OPERATIONS\n",
        "\n",
        "## LOGICAL OPERATIONS\n",
        "# and   \n",
        "# not   # unary\n",
        "# or\n",
        "\n",
        "x = True\n",
        "# print(\"not True = \", not x)\n",
        "\n",
        "# print(\"True or False = \", True or False)\n",
        "# print(\"True and False and True = \", True and False and True)\n",
        "\n",
        "\"\"\"\n",
        "    A    B     or    and    not a   not b   a ^ b\n",
        "    0    0     0      0      1        1       0\n",
        "    0    1     1      0      1        0       1\n",
        "    1    0     1      0      0        1       1\n",
        "    1    1     1      1      0        0       0\n",
        "\"\"\"\n",
        "\n",
        "# Precedence\n",
        "# NOT\n",
        "# AND \n",
        "# OR\n",
        "\n",
        "(False) and (True) or ((True or False) and not (False or True))"
      ]
    },
    {
      "cell_type": "code",
      "execution_count": null,
      "metadata": {
        "scrolled": true,
        "id": "-Lg1M5R3n8RJ",
        "outputId": "435c398a-afd1-4152-f8fe-9f1cdf094daa"
      },
      "outputs": [
        {
          "name": "stdout",
          "output_type": "stream",
          "text": [
            "5 / 3 =  1.6666666666666667\n",
            "5 // 3 =  1\n",
            "5 % 3 =  2\n"
          ]
        }
      ],
      "source": [
        "## ARITHMETIC OPERATIONS\n",
        "### addition +\n",
        "### subtraction as -\n",
        "### multiplication *\n",
        "### Division /, //\n",
        "### Exponential **\n",
        "print(\"5 / 3 = \", 5 / 3)\n",
        "print(\"5 // 3 = \", 5 // 3)\n",
        "### Modulus %\n",
        "print(\"5 % 3 = \", 5 % 3)"
      ]
    },
    {
      "cell_type": "code",
      "execution_count": null,
      "metadata": {
        "id": "0_-9oTy4n8RM",
        "outputId": "3e850877-47e4-4ae3-9e9a-4582d4fa970a"
      },
      "outputs": [
        {
          "data": {
            "text/plain": [
              "25"
            ]
          },
          "execution_count": 43,
          "metadata": {},
          "output_type": "execute_result"
        }
      ],
      "source": [
        "# BODMAS\n",
        "\n",
        "# Brackets\n",
        "# Exponential\n",
        "# Multiplication\n",
        "# Div(/) Mod(%) FDiv(//)\n",
        "# Addition\n",
        "# Subtraction\n",
        "\n",
        "5 * 32 // (2 ^ 4) - 9 % 2"
      ]
    },
    {
      "cell_type": "code",
      "execution_count": null,
      "metadata": {
        "id": "97j6i4x4n8Ra",
        "outputId": "402b5805-b285-4c8a-ffd8-593fb5685f9b"
      },
      "outputs": [
        {
          "name": "stdout",
          "output_type": "stream",
          "text": [
            "2 == 3: False\n",
            "2 != 3: True\n",
            "2 < 3: True\n",
            "2 > 3: False\n",
            "3 >= 3: True\n",
            "3 > 3: False\n"
          ]
        },
        {
          "data": {
            "text/plain": [
              "True"
            ]
          },
          "execution_count": 48,
          "metadata": {},
          "output_type": "execute_result"
        }
      ],
      "source": [
        "## RELATIONAL OPERATIONS\n",
        "\n",
        "### ==, <, >, <=, >=, !=\n",
        "\n",
        "print(\"2 == 3:\", 2==3)\n",
        "print(\"2 != 3:\", 2!=3)\n",
        "\n",
        "print(\"2 < 3:\", 2<3)\n",
        "print(\"2 > 3:\", 2>3)\n",
        "\n",
        "print(\"3 >= 3:\", 3>=3)\n",
        "print(\"3 > 3:\", 3>3)\n",
        "\n",
        "x = \"in\"\n",
        "\n",
        "x is not None"
      ]
    },
    {
      "cell_type": "code",
      "execution_count": null,
      "metadata": {
        "id": "Ajpt3GBdn8Rb",
        "outputId": "715b1fca-2575-43ea-e0a0-3e2a4be6665f"
      },
      "outputs": [
        {
          "name": "stdout",
          "output_type": "stream",
          "text": [
            "Odd number\n",
            "Ending program..\n",
            "Hello\n",
            "Done\n"
          ]
        }
      ],
      "source": [
        "# CONDITIONAL STATEMENTS\n",
        "## if\n",
        "x = 2\n",
        "y = 99\n",
        "\n",
        "if y % 2 != 0:\n",
        "    print(\"Odd number\")\n",
        "    print(\"Ending program..\")\n",
        "print(\"Hello\")\n",
        "if y % 2 == 0:\n",
        "    print(\"Even Number\")\n",
        "print(\"Done\")"
      ]
    },
    {
      "cell_type": "code",
      "execution_count": null,
      "metadata": {
        "id": "UlogzTtGn8Re",
        "outputId": "984fe4c2-6ff6-4e20-c041-bfd116502c91"
      },
      "outputs": [
        {
          "name": "stdout",
          "output_type": "stream",
          "text": [
            "Even Number\n",
            "Done\n"
          ]
        }
      ],
      "source": [
        "## if-else\n",
        "x = 2\n",
        "y = 98\n",
        "\n",
        "if y % 2 != 0:\n",
        "    print(\"Odd number\")\n",
        "    print(\"Ending program..\")\n",
        "else:\n",
        "    print(\"Even Number\")\n",
        "print(\"Done\")"
      ]
    },
    {
      "cell_type": "code",
      "execution_count": null,
      "metadata": {
        "id": "OIFuzFh7n8Rh",
        "outputId": "b603bb26-5119-4925-90ca-5648f2ed1645"
      },
      "outputs": [
        {
          "name": "stdout",
          "output_type": "stream",
          "text": [
            "The number is positive\n",
            "Done\n"
          ]
        }
      ],
      "source": [
        "## if-elif-else\n",
        "choice = 100\n",
        "\n",
        "if choice > 0:\n",
        "    print(\"The number is positive\")\n",
        "elif choice == 0:\n",
        "    print(\"The number is zero\")\n",
        "elif choice >= 100:\n",
        "    print(\"The number is greater than 100\")\n",
        "else:\n",
        "    print(\"The number is negative\")\n",
        "print(\"Done\")"
      ]
    },
    {
      "cell_type": "code",
      "execution_count": null,
      "metadata": {
        "id": "EbE9j02Zn8Rk",
        "outputId": "bb75f309-891e-40a8-b6c1-df5540c8c7b8"
      },
      "outputs": [
        {
          "name": "stdout",
          "output_type": "stream",
          "text": [
            "Length: 7\n",
            "s\n",
            "str\n",
            "g\n",
            "str\n",
            "str\n",
            "s\n"
          ]
        }
      ],
      "source": [
        "# Strings\n",
        "x = \"string1\"\n",
        "\n",
        "print(\"Length:\", len(x))\n",
        "\n",
        "print(x[0])\n",
        "print(x[0:3])\n",
        "print(x[-2])\n",
        "print(x[0:3])\n",
        "\n",
        "print(x[0:-4])\n",
        "\n",
        "print(x[-len(x)])"
      ]
    },
    {
      "cell_type": "code",
      "execution_count": null,
      "metadata": {
        "id": "SWwsgdi-n8Rq",
        "outputId": "02d6fcc2-0eea-45f7-8c7a-108ef86f74db"
      },
      "outputs": [
        {
          "name": "stdout",
          "output_type": "stream",
          "text": [
            "MINNESOTA MINNESOTA\n",
            "minnesota minnesota\n",
            "Minnesota minnesota\n",
            "2\n",
            "5\n",
            "15\n"
          ]
        }
      ],
      "source": [
        "x = \"minnesOta minnesota\"\n",
        "\n",
        "print(x.upper())\n",
        "print(x.lower())\n",
        "print(x.capitalize())\n",
        "print(x.count(\"min\"))\n",
        "print(x.find(\"s\"))   # index number of a character else -1\n",
        "print(x.rfind(\"s\"))   # index number of last occurence a character else -1"
      ]
    },
    {
      "cell_type": "code",
      "execution_count": null,
      "metadata": {
        "id": "MAM83W-2n8Rr",
        "outputId": "2b025dd5-3195-4526-ab36-8f95e09e9db8"
      },
      "outputs": [
        {
          "name": "stdout",
          "output_type": "stream",
          "text": [
            "False\n",
            "False\n",
            "False\n",
            "['minnes', ' taminne sota']\n"
          ]
        },
        {
          "data": {
            "text/plain": [
              "'India '"
            ]
          },
          "execution_count": 83,
          "metadata": {},
          "output_type": "execute_result"
        }
      ],
      "source": [
        "x = \"minnes01 taminne sota\"\n",
        "#x = \"5\"\n",
        "\n",
        "print(x.isalpha())\n",
        "print(x.isnumeric())\n",
        "print(x.isalnum())\n",
        "\n",
        "print(x.split(\"01\"))\n",
        "\n",
        "x = \"India \"\n",
        "y = \"India\"\n",
        "x#.strip()# == y.strip()"
      ]
    },
    {
      "cell_type": "code",
      "execution_count": null,
      "metadata": {
        "id": "DwQ4Qshon8Rt",
        "outputId": "1a7f119d-b32b-49da-dc85-b898686d5005"
      },
      "outputs": [
        {
          "data": {
            "text/plain": [
              "'India'"
            ]
          },
          "execution_count": 84,
          "metadata": {},
          "output_type": "execute_result"
        }
      ],
      "source": [
        "x.strip()"
      ]
    },
    {
      "cell_type": "code",
      "execution_count": null,
      "metadata": {
        "id": "vJkvHvF7n8Rv",
        "outputId": "0ce27f69-8508-4c00-804d-cfec60da6b1c"
      },
      "outputs": [
        {
          "data": {
            "text/plain": [
              "False"
            ]
          },
          "execution_count": 88,
          "metadata": {},
          "output_type": "execute_result"
        }
      ],
      "source": [
        "x = \"india\"\n",
        "y = \"India\"\n",
        "x == y"
      ]
    },
    {
      "cell_type": "code",
      "execution_count": null,
      "metadata": {
        "id": "q5j4opaWn8Rx",
        "outputId": "3513497e-332b-4365-e7e4-6a85a8961cc8"
      },
      "outputs": [
        {
          "data": {
            "text/plain": [
              "True"
            ]
          },
          "execution_count": 89,
          "metadata": {},
          "output_type": "execute_result"
        }
      ],
      "source": [
        "# ASCII VALUES\n",
        "\"\"\"\n",
        "A-Z : 65 - 90\n",
        "a-z : 97 - 122\n",
        "\n",
        "0-9 : 48 - 57\n",
        "\n",
        "\" \" : 32\n",
        "\"\"\"\n",
        "\n",
        "x = \"a\"\n",
        "y = \"b\"\n",
        "x < y"
      ]
    },
    {
      "cell_type": "code",
      "execution_count": null,
      "metadata": {
        "id": "v46f0GRrn8Rz",
        "outputId": "f29435fe-600b-43eb-cff6-3034feffada6"
      },
      "outputs": [
        {
          "data": {
            "text/plain": [
              "'iyiiiyiiiyiiiyiiiyii'"
            ]
          },
          "execution_count": 2,
          "metadata": {},
          "output_type": "execute_result"
        }
      ],
      "source": [
        "\"iyii\" * 5"
      ]
    },
    {
      "cell_type": "code",
      "execution_count": null,
      "metadata": {
        "id": "dKs4j5c_n8R0",
        "outputId": "c9183b09-63b2-4520-b9a7-86a4354914bf"
      },
      "outputs": [
        {
          "data": {
            "text/plain": [
              "60"
            ]
          },
          "execution_count": 11,
          "metadata": {},
          "output_type": "execute_result"
        }
      ],
      "source": [
        "# Shorthand implementation\n",
        "\n",
        "x = 6\n",
        "\n",
        "#x = x + 10\n",
        "\n",
        "#x += 10\n",
        "\n",
        "#x -= 10\n",
        "\n",
        "x *= 10\n",
        "x"
      ]
    },
    {
      "cell_type": "code",
      "execution_count": null,
      "metadata": {
        "id": "2wzVURSJn8R2",
        "outputId": "9f8b8995-00c9-48e2-d11f-a2968c3c6c8b"
      },
      "outputs": [
        {
          "data": {
            "text/plain": [
              "3"
            ]
          },
          "execution_count": 23,
          "metadata": {},
          "output_type": "execute_result"
        }
      ],
      "source": [
        "import math\n",
        "\n",
        "# square root\n",
        "math.sqrt(10)\n",
        "# exp e^2\n",
        "math.exp(2)\n",
        "# Exponential operator\n",
        "2**4\n",
        "\n",
        "# rounding off\n",
        "round(3.5)\n",
        "\n",
        "# ceiling\n",
        "math.ceil(3.1)\n",
        "# floor\n",
        "math.floor(3.9)"
      ]
    },
    {
      "cell_type": "code",
      "execution_count": null,
      "metadata": {
        "scrolled": true,
        "id": "WpS9t_efn8R3",
        "outputId": "3d2da6a6-1de1-4f4b-b9b8-60243131ee49"
      },
      "outputs": [
        {
          "name": "stdout",
          "output_type": "stream",
          "text": [
            "0\n",
            "5\n",
            "\n",
            "4\n"
          ]
        }
      ],
      "source": [
        "x = 7 # assignment\n",
        "\n",
        "x = 5 # assignment\n",
        "\n",
        "x == 5\n",
        "y = \"\"\n",
        "y = x-5 #\n",
        "\n",
        "print(x-5)\n",
        "print(x)\n",
        "print()\n",
        "print(math.ceil(3.1))"
      ]
    },
    {
      "cell_type": "code",
      "execution_count": null,
      "metadata": {
        "id": "SnRo0D9Fn8R5",
        "outputId": "4a8baab6-f426-44c9-e080-b0975dafa450"
      },
      "outputs": [
        {
          "name": "stdout",
          "output_type": "stream",
          "text": [
            "4\n"
          ]
        }
      ],
      "source": [
        "# Functions\n",
        "\n",
        "def get_product_of_2():\n",
        "    x = 2\n",
        "    doub = x * 2\n",
        "    return doub\n",
        "\n",
        "def get_product(a):\n",
        "    return a * 2\n",
        "\n",
        "def multiply(a, b):\n",
        "    return a*b\n",
        "\n",
        "def print_greet(name):\n",
        "    print(\"Hello \", name)\n",
        "\n",
        "print(doub)"
      ]
    },
    {
      "cell_type": "code",
      "execution_count": null,
      "metadata": {
        "id": "IBfiWKiDn8R6"
      },
      "outputs": [],
      "source": [
        ""
      ]
    },
    {
      "cell_type": "code",
      "execution_count": null,
      "metadata": {
        "scrolled": true,
        "id": "dTtsT4U6n8R8",
        "outputId": "9d5b0d1e-e38f-4fb1-f266-63fe17adfec5"
      },
      "outputs": [
        {
          "name": "stdout",
          "output_type": "stream",
          "text": [
            "Hello  Azfar\n",
            "None\n"
          ]
        }
      ],
      "source": [
        "y = 7\n",
        "#get_product_of_2()\n",
        "#print(get_product(y))\n",
        "\n",
        "#print(multiply(2, 3))\n",
        "\n",
        "# get_product(y)\n",
        "\n",
        "print(print_greet(\"Azfar\"))"
      ]
    },
    {
      "cell_type": "code",
      "execution_count": null,
      "metadata": {
        "scrolled": true,
        "id": "NqXCTiL0n8R9",
        "outputId": "1e51f4e6-9479-437b-c07d-e2c618fce500"
      },
      "outputs": [
        {
          "name": "stdout",
          "output_type": "stream",
          "text": [
            "inside  1\n",
            "outside  1\n",
            "Inside function 11\n",
            "outside  11\n"
          ]
        }
      ],
      "source": [
        "# Scope of a variable\n",
        "# global variables\n",
        "# local variables\n",
        "\n",
        "a = 10  # global variable\n",
        "\n",
        "def get_product_of_2():\n",
        "    a = 2  #local variable\n",
        "    a = a * 2\n",
        "    print(\"Inside function\", a)\n",
        "\n",
        "def change_value(b):\n",
        "    global a\n",
        "    a = a - b\n",
        "    print(\"Inside function\", a)\n",
        "\n",
        "# get_product_of_2()\n",
        "# print(a)\n",
        "\n",
        "if 5 > 3:\n",
        "    f = 1\n",
        "    print(\"inside \",f)\n",
        "\n",
        "print(\"outside \",f)\n",
        "\n",
        "change_value(-1)\n",
        "print(\"outside \", a)"
      ]
    },
    {
      "cell_type": "code",
      "execution_count": null,
      "metadata": {
        "id": "dtSuuz6On8R_",
        "outputId": "8607baa6-9f09-490d-c9d1-a80143974bed"
      },
      "outputs": [
        {
          "name": "stdout",
          "output_type": "stream",
          "text": [
            "21.588989435406738 -65.58898943540675\n"
          ]
        }
      ],
      "source": [
        "# complex functions\n",
        "\n",
        "# x**2 + b*x + c\n",
        "\n",
        "a = 5\n",
        "b = 22\n",
        "c = 9\n",
        "\n",
        "def getroots(a, b, c):\n",
        "    root1 = -b+(math.sqrt((b**2)-4*a*c))/2*a\n",
        "    root2 = -b-(math.sqrt((b**2)-4*a*c))/2*a\n",
        "    return(root1, root2)\n",
        "\n",
        "root1, root2 = getroots(a, b, c)\n",
        "\n",
        "print(root1, root2)"
      ]
    },
    {
      "cell_type": "code",
      "execution_count": null,
      "metadata": {
        "id": "npl2NYeln8SB",
        "outputId": "5d80fd22-556c-4f64-e8c7-219d8568ba34"
      },
      "outputs": [
        {
          "data": {
            "text/plain": [
              "(-12.865338900488403, -37.1346610995116)"
            ]
          },
          "execution_count": 72,
          "metadata": {},
          "output_type": "execute_result"
        }
      ],
      "source": [
        "a = 1\n",
        "b = 25\n",
        "c = 9\n",
        "getroots(a, b, c)"
      ]
    },
    {
      "cell_type": "code",
      "execution_count": null,
      "metadata": {
        "id": "oozqKECbn8SC",
        "outputId": "3904c498-b7f5-441a-d8db-e01e13cd2778"
      },
      "outputs": [
        {
          "name": "stdout",
          "output_type": "stream",
          "text": [
            "Inside function 36\n"
          ]
        }
      ],
      "source": [
        "# Default Arguments\n",
        "# def get_product_of_2(a = 2):\n",
        "#     a = a * 2\n",
        "#     print(\"Inside function\", a)\n",
        "\n",
        "def get_product_of_2(a = 2, b = 2, c = 2):\n",
        "    a = a * b\n",
        "    print(\"Inside function\", a**c)\n",
        "\n",
        "def get_power(c, a = 2, b = 2):\n",
        "    a = a * b\n",
        "    print(\"Inside function\", a**c)\n",
        "\n",
        "#get_product_of_2()\n",
        "get_power(2, 3)"
      ]
    },
    {
      "cell_type": "code",
      "execution_count": null,
      "metadata": {
        "id": "JfYWAj00n8SE",
        "outputId": "ca8ad32d-e50f-4692-9a35-0926b9518453"
      },
      "outputs": [
        {
          "name": "stdout",
          "output_type": "stream",
          "text": [
            "direct assignment: 8 5\n",
            "a =  8\n",
            "b =  5\n"
          ]
        }
      ],
      "source": [
        "# swapping values\n",
        "a = 5\n",
        "b = 8\n",
        "\n",
        "# third variable\n",
        "# t = a\n",
        "# a = b\n",
        "# b = t\n",
        "# print(\"Third variable:\", a, b)\n",
        "\n",
        "a, b = b, a\n",
        "print(\"direct assignment:\", a, b)\n",
        "\n",
        "def test(a, b):\n",
        "    a = a+b\n",
        "    b = a-b\n",
        "    a = a-b\n",
        "    print('a = ', a)\n",
        "    print('b = ', b)\n",
        "test(5,8)"
      ]
    },
    {
      "cell_type": "code",
      "execution_count": 3,
      "metadata": {
        "colab": {
          "base_uri": "https://localhost:8080/"
        },
        "id": "QSdrtPI0n8SF",
        "outputId": "c627aa17-de23-4d03-ad9e-d1b0bf008c21"
      },
      "outputs": [
        {
          "output_type": "stream",
          "name": "stdout",
          "text": [
            "Inside function 4\n",
            "Done..\n",
            "Inside function 3\n",
            "Done..\n",
            "Inside function 2\n",
            "Done..\n",
            "Inside function 1\n",
            "Done..\n",
            "Inside function 0\n",
            "Done..\n",
            "Outside loop\n"
          ]
        }
      ],
      "source": [
        "# Loops(iterative)\n",
        "a = 5\n",
        "def change_value(b):\n",
        "    global a\n",
        "    a = a - b\n",
        "    print(\"Inside function\", a)\n",
        "# while loop\n",
        "while a > 0:\n",
        "    change_value(1)\n",
        "    print(\"Done..\")\n",
        "print(\"Outside loop\")"
      ]
    },
    {
      "cell_type": "code",
      "execution_count": 2,
      "metadata": {
        "scrolled": false,
        "colab": {
          "base_uri": "https://localhost:8080/",
          "height": 287
        },
        "id": "5XmzROKWn8SG",
        "outputId": "89f51d12-ff2b-401f-e336-30f34bdfd83c"
      },
      "outputs": [
        {
          "output_type": "stream",
          "name": "stdout",
          "text": [
            "III\n",
            "nnn\n",
            "ddd\n",
            "iii\n",
            "aaa\n"
          ]
        },
        {
          "output_type": "error",
          "ename": "IndexError",
          "evalue": "ignored",
          "traceback": [
            "\u001b[0;31m---------------------------------------------------------------------------\u001b[0m",
            "\u001b[0;31mIndexError\u001b[0m                                Traceback (most recent call last)",
            "\u001b[0;32m<ipython-input-2-0bd411f86ed1>\u001b[0m in \u001b[0;36m<module>\u001b[0;34m()\u001b[0m\n\u001b[1;32m      5\u001b[0m \u001b[0;34m\u001b[0m\u001b[0m\n\u001b[1;32m      6\u001b[0m \u001b[0;32mfor\u001b[0m \u001b[0mi\u001b[0m \u001b[0;32min\u001b[0m \u001b[0mrange\u001b[0m\u001b[0;34m(\u001b[0m\u001b[0;36m0\u001b[0m\u001b[0;34m,\u001b[0m \u001b[0mlen\u001b[0m\u001b[0;34m(\u001b[0m\u001b[0mstring\u001b[0m\u001b[0;34m)\u001b[0m \u001b[0;34m+\u001b[0m \u001b[0;36m1\u001b[0m\u001b[0;34m)\u001b[0m\u001b[0;34m:\u001b[0m\u001b[0;34m\u001b[0m\u001b[0;34m\u001b[0m\u001b[0m\n\u001b[0;32m----> 7\u001b[0;31m   \u001b[0mprint\u001b[0m\u001b[0;34m(\u001b[0m\u001b[0mstring\u001b[0m\u001b[0;34m[\u001b[0m\u001b[0mi\u001b[0m\u001b[0;34m]\u001b[0m \u001b[0;34m*\u001b[0m \u001b[0;36m3\u001b[0m\u001b[0;34m)\u001b[0m\u001b[0;34m\u001b[0m\u001b[0;34m\u001b[0m\u001b[0m\n\u001b[0m",
            "\u001b[0;31mIndexError\u001b[0m: string index out of range"
          ]
        }
      ],
      "source": [
        "# for loop\n",
        "string = \"India\"\n",
        "# for i in string:\n",
        "#     print(i * 3)\n",
        "\n",
        "for i in range(0, len(string) + 1):\n",
        "  print(string[i] * 3)"
      ]
    },
    {
      "cell_type": "code",
      "execution_count": null,
      "metadata": {
        "id": "Uk53q2W-n8SI",
        "outputId": "8ad39965-658a-44e6-b0d8-c63fa7f2b127"
      },
      "outputs": [
        {
          "data": {
            "text/plain": [
              "0"
            ]
          },
          "execution_count": 97,
          "metadata": {},
          "output_type": "execute_result"
        }
      ],
      "source": [
        ""
      ]
    }
  ],
  "metadata": {
    "kernelspec": {
      "display_name": "Python 3",
      "language": "python",
      "name": "python3"
    },
    "language_info": {
      "codemirror_mode": {
        "name": "ipython",
        "version": 3
      },
      "file_extension": ".py",
      "mimetype": "text/x-python",
      "name": "python",
      "nbconvert_exporter": "python",
      "pygments_lexer": "ipython3",
      "version": "3.7.0"
    },
    "colab": {
      "name": "Python part 2.ipynb",
      "provenance": [],
      "collapsed_sections": [],
      "include_colab_link": true
    }
  },
  "nbformat": 4,
  "nbformat_minor": 0
}