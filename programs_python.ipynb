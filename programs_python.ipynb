{
  "cells": [
    {
      "cell_type": "markdown",
      "metadata": {
        "id": "view-in-github",
        "colab_type": "text"
      },
      "source": [
        "<a href=\"https://colab.research.google.com/github/rohit-goyal/Intro-to-Data-Science/blob/main/programs_python.ipynb\" target=\"_parent\"><img src=\"https://colab.research.google.com/assets/colab-badge.svg\" alt=\"Open In Colab\"/></a>"
      ]
    },
    {
      "cell_type": "code",
      "execution_count": null,
      "metadata": {
        "scrolled": true,
        "id": "fVlaVh6wj-7f",
        "outputId": "5458b678-3138-4556-a3e5-7d21fd6ac1ee"
      },
      "outputs": [
        {
          "name": "stdout",
          "output_type": "stream",
          "text": [
            "195\n"
          ]
        }
      ],
      "source": [
        "total = 0\n",
        "count = 20\n",
        "while count > 5:\n",
        "    total += count\n",
        "    count -= 1 \n",
        "print(total)"
      ]
    },
    {
      "cell_type": "code",
      "execution_count": null,
      "metadata": {
        "id": "Qqz1F0VKj-7w",
        "outputId": "50ac035e-2c00-48a1-cf7d-38a577a53bab"
      },
      "outputs": [
        {
          "name": "stdout",
          "output_type": "stream",
          "text": [
            "Enter a number:5\n",
            "1\n",
            "2\n",
            "6\n",
            "24\n",
            "120\n",
            "120\n"
          ]
        }
      ],
      "source": [
        "# Factorial of a number(n!)\n",
        "# n*(n-1)*(n-2).......1\n",
        "# 5! = 5 x 4 x 3 x 2 x 1\n",
        "# 6! = 6 x 5 x 4 x 3 x 2 x 1\n",
        "\n",
        "n=int(input(\"Enter a number:\"))\n",
        "s=1\n",
        "for i in range(1,n+1):\n",
        "    s=s*i\n",
        "    print(s)\n",
        "print(s)"
      ]
    },
    {
      "cell_type": "code",
      "execution_count": null,
      "metadata": {
        "scrolled": false,
        "id": "BunWHgdsj-70",
        "outputId": "46527b61-c53b-4b89-e81a-06aefc56a792"
      },
      "outputs": [
        {
          "name": "stdout",
          "output_type": "stream",
          "text": [
            "False\n",
            "i\n",
            "ni\n",
            "dni\n",
            "idni\n",
            "aidni\n",
            "False\n"
          ]
        }
      ],
      "source": [
        "# palindrome\n",
        "x = \"india\"\n",
        "y = \"malayalam\"\n",
        "\n",
        "# reverse of string\n",
        "print(x == x[::-1])\n",
        "\n",
        "# reverse using a loop\n",
        "rev = \"\"\n",
        "for i in x:\n",
        "    rev = i + rev\n",
        "    print(rev)\n",
        "print(x == rev)"
      ]
    },
    {
      "cell_type": "code",
      "execution_count": null,
      "metadata": {
        "id": "Tpsxi1kLj-74",
        "outputId": "65935cb2-8288-42db-b54f-8bdf5446ba65"
      },
      "outputs": [
        {
          "name": "stdout",
          "output_type": "stream",
          "text": [
            "second way i a\n",
            "No palindrome\n",
            "Its a palindrome\n"
          ]
        }
      ],
      "source": [
        "x = \"india\"\n",
        "y = \"malayalam\"\n",
        "\n",
        "for i in range(0, len(x)):\n",
        "    #print(\"First way\", x[i], x[len(x) - 1 - i])\n",
        "    print(\"second way\", x[i], x[-(i+1)])\n",
        "    if x[i] != x[-(i+1)]:\n",
        "        print(\"No palindrome\")\n",
        "        break\n",
        "\n",
        "print(\"Done\")"
      ]
    },
    {
      "cell_type": "code",
      "execution_count": null,
      "metadata": {
        "id": "60GPLjHWj-94",
        "outputId": "e8e763fd-bd0b-4f8d-c62a-819e1fe0da39"
      },
      "outputs": [
        {
          "name": "stdout",
          "output_type": "stream",
          "text": [
            "second way m m\n",
            "second way a a\n",
            "second way l l\n",
            "second way a a\n",
            "second way y y\n",
            "second way a a\n",
            "second way l l\n",
            "second way a a\n",
            "second way m m\n",
            "its a palindrome\n",
            "Done\n"
          ]
        }
      ],
      "source": [
        "y = \"malayalam\"\n",
        "\n",
        "f = 0 # flag variables\n",
        "\n",
        "for i in range(0, len(y)):\n",
        "    #print(\"second way\", y[i], y[-(i+1)])\n",
        "    if y[i] != y[-(i+1)]:\n",
        "        f = 1\n",
        "        print(\"Not palindrome\")\n",
        "        break\n",
        "\n",
        "if f == 0:\n",
        "    print(\"its a palindrome\")\n",
        "print(\"Done\")"
      ]
    },
    {
      "cell_type": "code",
      "execution_count": null,
      "metadata": {
        "scrolled": true,
        "id": "-qEO_TCbj--B",
        "outputId": "f0b3c088-d0c2-43b6-99a4-2cb25c258b1a"
      },
      "outputs": [
        {
          "name": "stdout",
          "output_type": "stream",
          "text": [
            "second way m m\n",
            "second way a a\n",
            "second way l l\n",
            "second way a a\n",
            "second way y y\n",
            "second way a a\n",
            "second way l l\n",
            "second way a a\n",
            "second way m m\n",
            "its a palindrome\n",
            "Done\n"
          ]
        }
      ],
      "source": [
        "y = \"malayalam\"\n",
        "\n",
        "f = 0 # flag variables\n",
        "\n",
        "for i in range(0, len(y)):\n",
        "    print(\"second way\", y[i], y[-(i+1)])\n",
        "    if y[i] == y[-(i+1)]:\n",
        "        pass\n",
        "    else:\n",
        "        f = 1\n",
        "        break\n",
        "\n",
        "if f == 0:\n",
        "    print(\"its a palindrome\")\n",
        "else:\n",
        "    print(\"Not palindrome\")\n",
        "print(\"Done\")"
      ]
    },
    {
      "cell_type": "code",
      "execution_count": null,
      "metadata": {
        "id": "iadwwgILj--D",
        "outputId": "2d584c63-30c3-4143-9e6e-767429ea28cc"
      },
      "outputs": [
        {
          "name": "stdout",
          "output_type": "stream",
          "text": [
            "its a palindrome\n",
            "Done\n"
          ]
        }
      ],
      "source": [
        "y = \"malayalam\"\n",
        "\n",
        "f = 0 # flag variables\n",
        "\n",
        "# iterating over half string\n",
        "for i in range(0, len(y)//2):\n",
        "    if y[i] == y[-(i+1)]:\n",
        "        continue\n",
        "    else:\n",
        "        f = 1\n",
        "        break\n",
        "    print(\"second way\", y[i], y[-(i+1)])\n",
        "\n",
        "if f == 0:\n",
        "    print(\"its a palindrome\")\n",
        "else:\n",
        "    print(\"Not palindrome\")\n",
        "print(\"Done\")"
      ]
    },
    {
      "cell_type": "code",
      "execution_count": null,
      "metadata": {
        "id": "3axtCFlcj--G",
        "outputId": "671b01c6-b424-443d-8854-95808cdcdbfe"
      },
      "outputs": [
        {
          "name": "stdout",
          "output_type": "stream",
          "text": [
            "a\n",
            "a\n",
            "a\n",
            "a\n"
          ]
        }
      ],
      "source": [
        "y = \"malayalam\"\n",
        "\n",
        "for i in y:\n",
        "    if i != \"a\":\n",
        "        continue\n",
        "    print(i)"
      ]
    },
    {
      "cell_type": "code",
      "execution_count": null,
      "metadata": {
        "id": "cq_TGy21j--J",
        "outputId": "3ab9dab0-74c1-4e80-9a78-4471d2e9b92c"
      },
      "outputs": [
        {
          "data": {
            "text/plain": [
              "'12345'"
            ]
          },
          "execution_count": 3,
          "metadata": {},
          "output_type": "execute_result"
        }
      ],
      "source": [
        "string = \"1234567890\"\n",
        "\n",
        "string[0:5]"
      ]
    },
    {
      "cell_type": "code",
      "execution_count": null,
      "metadata": {
        "id": "RNZgbQJFj--Q",
        "outputId": "0931f70d-536b-46e4-8555-484e6135e253"
      },
      "outputs": [
        {
          "name": "stdout",
          "output_type": "stream",
          "text": [
            "15\n"
          ]
        }
      ],
      "source": [
        "total = 0\n",
        "N = 5\n",
        "for i in range (1, N+1):\n",
        "    for j in range(1, i+1):\n",
        "        total += 1\n",
        "print(total)"
      ]
    },
    {
      "cell_type": "code",
      "execution_count": null,
      "metadata": {
        "id": "YRkzUMwJj--T"
      },
      "outputs": [],
      "source": [
        ""
      ]
    },
    {
      "cell_type": "code",
      "execution_count": null,
      "metadata": {
        "id": "8DeZjP_cj--U",
        "outputId": "4d723164-41c7-471d-b766-20cf7b297de4"
      },
      "outputs": [
        {
          "name": "stdout",
          "output_type": "stream",
          "text": [
            "10\n"
          ]
        }
      ],
      "source": [
        "total = 0\n",
        "N = 5\n",
        "for i in range (1, N+1):\n",
        "    for j in range(1, i+1):\n",
        "        total += 1\n",
        "    total -= 1\n",
        "print(total)"
      ]
    },
    {
      "cell_type": "code",
      "execution_count": null,
      "metadata": {
        "id": "QnD37xHNj-_5",
        "outputId": "84c0f9ff-2ffc-4fbd-a14c-c6e20c94e8ac"
      },
      "outputs": [
        {
          "name": "stdout",
          "output_type": "stream",
          "text": [
            "20\n"
          ]
        }
      ],
      "source": [
        "total = 0\n",
        "N = 5\n",
        "for i in range (1, N+1):\n",
        "    for j in range(1, N+1):\n",
        "        total += 1\n",
        "    total -= 1\n",
        "print(total)"
      ]
    },
    {
      "cell_type": "code",
      "execution_count": null,
      "metadata": {
        "id": "Onp77U3Vj-_7"
      },
      "outputs": [],
      "source": [
        ""
      ]
    },
    {
      "cell_type": "code",
      "execution_count": null,
      "metadata": {
        "id": "pnzbe0NGj-_8",
        "outputId": "a4c68976-ff3f-4de8-e5d7-94071d436948"
      },
      "outputs": [
        {
          "name": "stdout",
          "output_type": "stream",
          "text": [
            "15\n"
          ]
        }
      ],
      "source": [
        "total = 0\n",
        "N = 5\n",
        "\n",
        "for i in range (1, N+1):\n",
        "    total += i\n",
        "    \n",
        "print(total)"
      ]
    },
    {
      "cell_type": "code",
      "execution_count": null,
      "metadata": {
        "id": "fNoGuj0dj-_-"
      },
      "outputs": [],
      "source": [
        ""
      ]
    },
    {
      "cell_type": "code",
      "execution_count": null,
      "metadata": {
        "id": "DfiPLC1Ej-__",
        "outputId": "9d795728-e5b0-4996-86e1-b37d224b84d0"
      },
      "outputs": [
        {
          "name": "stdout",
          "output_type": "stream",
          "text": [
            "a\n",
            "aa\n",
            "aaa\n",
            "aaaa\n",
            "aaaaa\n"
          ]
        }
      ],
      "source": [
        "\"\"\"\n",
        "a\n",
        "aa\n",
        "aaa\n",
        "aaaa\n",
        "aaaaa\n",
        "\"\"\"\n",
        "\n",
        "n = 5\n",
        "\n",
        "for i in range(1, n+1):\n",
        "    print(\"a\" * i)"
      ]
    },
    {
      "cell_type": "code",
      "execution_count": null,
      "metadata": {
        "id": "bZRYF664j_AB",
        "outputId": "2eeceed2-fa8d-4183-b16d-a9f0a696681c"
      },
      "outputs": [
        {
          "name": "stdout",
          "output_type": "stream",
          "text": [
            "     a\n",
            "    aa\n",
            "   aaa\n",
            "  aaaa\n",
            " aaaaa\n"
          ]
        }
      ],
      "source": [
        "\"\"\" \n",
        "    a\n",
        "   aa\n",
        "  aaa\n",
        " aaaa\n",
        "aaaaa\n",
        "\"\"\"\n",
        "\n",
        "n = 5\n",
        "for i in range(1, n+1):\n",
        "    print(\" \" * (n-i), \"a\" * i)"
      ]
    },
    {
      "cell_type": "code",
      "execution_count": null,
      "metadata": {
        "scrolled": true,
        "id": "SH3LHbYhj_AC",
        "outputId": "e6da49f8-8bdc-4cbf-ee98-b458dd3fabf3"
      },
      "outputs": [
        {
          "name": "stdout",
          "output_type": "stream",
          "text": [
            "1\n",
            "12\n",
            "123\n",
            "1234\n",
            "12345\n"
          ]
        }
      ],
      "source": [
        "\"\"\" \n",
        "1\n",
        "12\n",
        "123\n",
        "1234\n",
        "12345\n",
        "\"\"\"\n",
        "n = 5\n",
        "\n",
        "for i in range(1, n+1):\n",
        "    for j in range(1, i+1):\n",
        "        print(j, end = \"\")\n",
        "    print(\"\")"
      ]
    },
    {
      "cell_type": "code",
      "execution_count": null,
      "metadata": {
        "id": "iMJ2rXcXj_AD",
        "outputId": "32baddb1-31de-4ecd-813d-af2293993590"
      },
      "outputs": [
        {
          "name": "stdout",
          "output_type": "stream",
          "text": [
            "1\n",
            "12\n",
            "123\n",
            "1234\n",
            "12345\n"
          ]
        }
      ],
      "source": [
        "for i in range(1, n+1):\n",
        "    row = \"\"\n",
        "    for j in range(1, i+1):\n",
        "        row = row + str(j)\n",
        "    print(row)"
      ]
    },
    {
      "cell_type": "code",
      "execution_count": null,
      "metadata": {
        "id": "LOwuTQXDj_AW",
        "outputId": "14aa43a5-5632-4dbf-b37f-49c021378813"
      },
      "outputs": [
        {
          "name": "stdout",
          "output_type": "stream",
          "text": [
            "     1\n",
            "    12\n",
            "   123\n",
            "  1234\n",
            " 12345\n"
          ]
        }
      ],
      "source": [
        "\"\"\" \n",
        "    1\n",
        "   12\n",
        "  123\n",
        " 1234\n",
        "12345\n",
        "\"\"\"\n",
        "n = 5\n",
        "\n",
        "for i in range(1, n+1):\n",
        "    row = \"\"\n",
        "    for j in range(1, i+1):\n",
        "        row = row + str(j)\n",
        "    print(\" \" * (n-i), row)"
      ]
    },
    {
      "cell_type": "code",
      "execution_count": null,
      "metadata": {
        "id": "hr0fysKSj_AX"
      },
      "outputs": [],
      "source": [
        ""
      ]
    }
  ],
  "metadata": {
    "kernelspec": {
      "display_name": "Python 3",
      "language": "python",
      "name": "python3"
    },
    "language_info": {
      "codemirror_mode": {
        "name": "ipython",
        "version": 3
      },
      "file_extension": ".py",
      "mimetype": "text/x-python",
      "name": "python",
      "nbconvert_exporter": "python",
      "pygments_lexer": "ipython3",
      "version": "3.7.0"
    },
    "colab": {
      "name": "programs_python.ipynb",
      "provenance": [],
      "include_colab_link": true
    }
  },
  "nbformat": 4,
  "nbformat_minor": 0
}