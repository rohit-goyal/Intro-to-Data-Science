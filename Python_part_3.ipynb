{
  "cells": [
    {
      "cell_type": "markdown",
      "metadata": {
        "id": "view-in-github",
        "colab_type": "text"
      },
      "source": [
        "<a href=\"https://colab.research.google.com/github/rohit-goyal/Intro-to-Data-Science/blob/main/Python_part_3.ipynb\" target=\"_parent\"><img src=\"https://colab.research.google.com/assets/colab-badge.svg\" alt=\"Open In Colab\"/></a>"
      ]
    },
    {
      "cell_type": "code",
      "execution_count": null,
      "metadata": {
        "id": "v9MuYSVgfkff"
      },
      "outputs": [],
      "source": [
        "## Binary System\n",
        "\n",
        "0   0000 0000\n",
        "1   0000 0001\n",
        "2   0000 0010\n",
        "3   0000 0011\n",
        "4   0000 0100\n",
        "5   0000 0101\n",
        "6   0000 0110\n",
        "7   0000 0111\n",
        "\n",
        "# 8 bits are 1 byte"
      ]
    },
    {
      "cell_type": "markdown",
      "metadata": {
        "id": "pkGjwAprfkfu"
      },
      "source": [
        "### Boolean Algebra\n",
        "0 + 1 = 1\n",
        "\n",
        "1 + 1 = 10\n",
        "\n",
        "1 + 1 + 1 = 11"
      ]
    },
    {
      "cell_type": "code",
      "execution_count": null,
      "metadata": {
        "id": "aGW0Mzelfkf0",
        "outputId": "71ccf348-7b4d-458b-cfc5-8dd62fe64a5e"
      },
      "outputs": [
        {
          "name": "stdout",
          "output_type": "stream",
          "text": [
            "<class 'str'>\n",
            "<class 'int'>\n",
            "Country: India Population: 1.3B Capital: Delhi States: 29\n",
            "Country: USA Population: 360M Capital: DC States: 50\n",
            "200\n"
          ]
        },
        {
          "data": {
            "text/plain": [
              "NoneType"
            ]
          },
          "execution_count": 44,
          "metadata": {},
          "output_type": "execute_result"
        }
      ],
      "source": [
        "# VARIABLE AND DATATYPES\n",
        "variable1 = \"India\"\n",
        "print(type(variable1))\n",
        "variable2 = 2\n",
        "\n",
        "variable1 = 1\n",
        "print(type(variable1))\n",
        "\n",
        "# String\n",
        "str1 = \"ABCDazdbd-23|{}\"\n",
        "\n",
        "str2 = \"India\"\n",
        "str3 = 'Country: {} Population: {} Capital: {} States: {}'\n",
        "print(str3.format(\"India\", \"1.3B\", \"Delhi\", \"29\"))\n",
        "print(str3.format(\"USA\", \"360M\", \"DC\", \"50\"))\n",
        "()\n",
        "\n",
        "\n",
        "# print(str3)\n",
        "# str = f'Country: {str2}'\n",
        "# print(str3)\n",
        "# Integer\n",
        "# -2^16 to +2^16\n",
        "x = 10\n",
        "y = 20\n",
        "print(x*y)\n",
        "# Boolean\n",
        "x = True\n",
        "y = False\n",
        "\n",
        "# Floating point\n",
        "# -2^32 to +2^32\n",
        "x = 1.5\n",
        "# Double\n",
        "# -2^64 to +2^64\n",
        "x = 1.0000000000000000000000002\n",
        "\n",
        "# None or NULL or NaN\n",
        "type(None)"
      ]
    },
    {
      "cell_type": "code",
      "execution_count": null,
      "metadata": {
        "id": "5gkbV9qFfkf5",
        "outputId": "c2a65917-23e2-478d-d6fa-4f2aa92eff30"
      },
      "outputs": [
        {
          "data": {
            "text/plain": [
              "False"
            ]
          },
          "execution_count": 16,
          "metadata": {},
          "output_type": "execute_result"
        }
      ],
      "source": [
        "# OPERATIONS\n",
        "\n",
        "## LOGICAL OPERATIONS\n",
        "# and   \n",
        "# not   # unary\n",
        "# or\n",
        "\n",
        "x = True\n",
        "# print(\"not True = \", not x)\n",
        "\n",
        "# print(\"True or False = \", True or False)\n",
        "# print(\"True and False and True = \", True and False and True)\n",
        "\n",
        "\"\"\"\n",
        "    A    B     or    and    not a   not b   a ^ b\n",
        "    0    0     0      0      1        1       0\n",
        "    0    1     1      0      1        0       1\n",
        "    1    0     1      0      0        1       1\n",
        "    1    1     1      1      0        0       0\n",
        "\"\"\"\n",
        "\n",
        "# Precedence\n",
        "# NOT\n",
        "# AND \n",
        "# OR\n",
        "\n",
        "(False) and (True) or ((True or False) and not (False or True))"
      ]
    },
    {
      "cell_type": "code",
      "execution_count": null,
      "metadata": {
        "scrolled": true,
        "id": "nVOfI-qifkgE",
        "outputId": "4d7431ec-9d4f-4845-c6e1-18b339a06534"
      },
      "outputs": [
        {
          "name": "stdout",
          "output_type": "stream",
          "text": [
            "5 / 3 =  1.6666666666666667\n",
            "5 // 3 =  1\n",
            "5 % 3 =  2\n"
          ]
        }
      ],
      "source": [
        "## ARITHMETIC OPERATIONS\n",
        "### addition +\n",
        "### subtraction as -\n",
        "### multiplication *\n",
        "### Division /, //\n",
        "### Exponential **\n",
        "print(\"5 / 3 = \", 5 / 3)\n",
        "print(\"5 // 3 = \", 5 // 3)\n",
        "### Modulus %\n",
        "print(\"5 % 3 = \", 5 % 3)"
      ]
    },
    {
      "cell_type": "code",
      "execution_count": null,
      "metadata": {
        "id": "-bThpLPMfkgH",
        "outputId": "440feb08-d051-4543-ab35-b18cf1758ba6"
      },
      "outputs": [
        {
          "data": {
            "text/plain": [
              "25"
            ]
          },
          "execution_count": 43,
          "metadata": {},
          "output_type": "execute_result"
        }
      ],
      "source": [
        "# BODMAS\n",
        "\n",
        "# Brackets\n",
        "# Exponential\n",
        "# Multiplication\n",
        "# Div(/) Mod(%) FDiv(//)\n",
        "# Addition\n",
        "# Subtraction\n",
        "\n",
        "5 * 32 // (2 ^ 4) - 9 % 2"
      ]
    },
    {
      "cell_type": "code",
      "execution_count": null,
      "metadata": {
        "id": "0JPSrjrlfkgJ",
        "outputId": "31070e24-909c-411e-a8a4-1e571e196428"
      },
      "outputs": [
        {
          "name": "stdout",
          "output_type": "stream",
          "text": [
            "2 == 3: False\n",
            "2 != 3: True\n",
            "2 < 3: True\n",
            "2 > 3: False\n",
            "3 >= 3: True\n",
            "3 > 3: False\n"
          ]
        },
        {
          "data": {
            "text/plain": [
              "True"
            ]
          },
          "execution_count": 48,
          "metadata": {},
          "output_type": "execute_result"
        }
      ],
      "source": [
        "## RELATIONAL OPERATIONS\n",
        "\n",
        "### ==, <, >, <=, >=, !=\n",
        "\n",
        "print(\"2 == 3:\", 2==3)\n",
        "print(\"2 != 3:\", 2!=3)\n",
        "\n",
        "print(\"2 < 3:\", 2<3)\n",
        "print(\"2 > 3:\", 2>3)\n",
        "\n",
        "print(\"3 >= 3:\", 3>=3)\n",
        "print(\"3 > 3:\", 3>3)\n",
        "\n",
        "x = \"in\"\n",
        "\n",
        "x is not None"
      ]
    },
    {
      "cell_type": "code",
      "execution_count": null,
      "metadata": {
        "id": "WyT7EutofkgN",
        "outputId": "4b2070b1-62ab-4d56-a136-932e575f3ada"
      },
      "outputs": [
        {
          "name": "stdout",
          "output_type": "stream",
          "text": [
            "Odd number\n",
            "Ending program..\n",
            "Hello\n",
            "Done\n"
          ]
        }
      ],
      "source": [
        "# CONDITIONAL STATEMENTS\n",
        "## if\n",
        "x = 2\n",
        "y = 99\n",
        "\n",
        "if y % 2 != 0:\n",
        "    print(\"Odd number\")\n",
        "    print(\"Ending program..\")\n",
        "print(\"Hello\")\n",
        "if y % 2 == 0:\n",
        "    print(\"Even Number\")\n",
        "print(\"Done\")"
      ]
    },
    {
      "cell_type": "code",
      "execution_count": null,
      "metadata": {
        "id": "R4aTDzRtfkgQ",
        "outputId": "e5280eaf-9cab-4def-c4f5-d475f9fdbdef"
      },
      "outputs": [
        {
          "name": "stdout",
          "output_type": "stream",
          "text": [
            "Even Number\n",
            "Done\n"
          ]
        }
      ],
      "source": [
        "## if-else\n",
        "x = 2\n",
        "y = 98\n",
        "\n",
        "if y % 2 != 0:\n",
        "    print(\"Odd number\")\n",
        "    print(\"Ending program..\")\n",
        "else:\n",
        "    print(\"Even Number\")\n",
        "print(\"Done\")"
      ]
    },
    {
      "cell_type": "code",
      "execution_count": null,
      "metadata": {
        "id": "xy1sMTdlfkgT",
        "outputId": "d4abf161-cb8a-463e-d208-c98b0146f053"
      },
      "outputs": [
        {
          "name": "stdout",
          "output_type": "stream",
          "text": [
            "The number is positive\n",
            "Done\n"
          ]
        }
      ],
      "source": [
        "## if-elif-else\n",
        "choice = 100\n",
        "\n",
        "if choice > 0:\n",
        "    print(\"The number is positive\")\n",
        "elif choice == 0:\n",
        "    print(\"The number is zero\")\n",
        "elif choice >= 100:\n",
        "    print(\"The number is greater than 100\")\n",
        "else:\n",
        "    print(\"The number is negative\")\n",
        "print(\"Done\")"
      ]
    },
    {
      "cell_type": "code",
      "execution_count": null,
      "metadata": {
        "id": "zlIAZd8bfkgX",
        "outputId": "24488b6a-7d2b-4189-934d-87baea9a1d1d"
      },
      "outputs": [
        {
          "name": "stdout",
          "output_type": "stream",
          "text": [
            "Length: 7\n",
            "s\n",
            "str\n",
            "g\n",
            "str\n",
            "str\n",
            "s\n"
          ]
        }
      ],
      "source": [
        "# Strings((immutable))\n",
        "x = \"string1\"\n",
        "x = \"string2\"\n",
        "print(\"Length:\", len(x))\n",
        "\n",
        "print(x[0])\n",
        "print(x[0:3])\n",
        "print(x[-2])\n",
        "print(x[0:3])\n",
        "\n",
        "print(x[0:-4])\n",
        "\n",
        "print(x[-len(x)])"
      ]
    },
    {
      "cell_type": "code",
      "execution_count": null,
      "metadata": {
        "id": "5dDXJBdufkgw",
        "outputId": "10322e0b-4117-4e5b-c649-e86be7b8794b"
      },
      "outputs": [
        {
          "name": "stdout",
          "output_type": "stream",
          "text": [
            "MINNESOTA MINNESOTA\n",
            "minnesota minnesota\n",
            "Minnesota minnesota\n",
            "2\n",
            "5\n",
            "15\n"
          ]
        }
      ],
      "source": [
        "x = \"minnesOta minnesota\"\n",
        "\n",
        "print(x.upper())\n",
        "print(x.lower())\n",
        "print(x.capitalize())\n",
        "print(x.count(\"min\"))\n",
        "print(x.find(\"s\"))   # index number of a character else -1\n",
        "print(x.rfind(\"s\"))   # index number of last occurence a character else -1"
      ]
    },
    {
      "cell_type": "code",
      "execution_count": null,
      "metadata": {
        "id": "vVQ03N8kfkgy",
        "outputId": "9acdde59-d604-4e96-e8e9-8cf2461ae7eb"
      },
      "outputs": [
        {
          "name": "stdout",
          "output_type": "stream",
          "text": [
            "False\n",
            "False\n",
            "False\n",
            "['minnes', ' taminne sota']\n"
          ]
        },
        {
          "data": {
            "text/plain": [
              "'India '"
            ]
          },
          "execution_count": 83,
          "metadata": {},
          "output_type": "execute_result"
        }
      ],
      "source": [
        "x = \"minnes01 taminne sota\"\n",
        "#x = \"5\"\n",
        "\n",
        "print(x.isalpha())\n",
        "print(x.isnumeric())\n",
        "print(x.isalnum())\n",
        "\n",
        "print(x.split(\"01\"))\n",
        "\n",
        "x = \"India \"\n",
        "y = \"India\"\n",
        "x#.strip()# == y.strip()"
      ]
    },
    {
      "cell_type": "code",
      "execution_count": null,
      "metadata": {
        "id": "FKTvOiVefkg0",
        "outputId": "211d2991-ec9c-4501-efe1-5d3d79c9658d"
      },
      "outputs": [
        {
          "data": {
            "text/plain": [
              "'India'"
            ]
          },
          "execution_count": 84,
          "metadata": {},
          "output_type": "execute_result"
        }
      ],
      "source": [
        "x.strip()"
      ]
    },
    {
      "cell_type": "code",
      "execution_count": null,
      "metadata": {
        "id": "XDkpSBDSfkg2",
        "outputId": "7c065c07-4987-4c23-f544-48ce948d3e56"
      },
      "outputs": [
        {
          "data": {
            "text/plain": [
              "False"
            ]
          },
          "execution_count": 88,
          "metadata": {},
          "output_type": "execute_result"
        }
      ],
      "source": [
        "x = \"india\"\n",
        "y = \"India\"\n",
        "x == y"
      ]
    },
    {
      "cell_type": "code",
      "execution_count": null,
      "metadata": {
        "id": "hcbRbxv0fkg3",
        "outputId": "61bcee21-09d7-4a62-e667-881dc7c83e23"
      },
      "outputs": [
        {
          "data": {
            "text/plain": [
              "True"
            ]
          },
          "execution_count": 89,
          "metadata": {},
          "output_type": "execute_result"
        }
      ],
      "source": [
        "# ASCII VALUES\n",
        "\"\"\"\n",
        "A-Z : 65 - 90\n",
        "a-z : 97 - 122\n",
        "\n",
        "0-9 : 48 - 57\n",
        "\n",
        "\" \" : 32\n",
        "\"\"\"\n",
        "\n",
        "x = \"a\"\n",
        "y = \"b\"\n",
        "x < y"
      ]
    },
    {
      "cell_type": "code",
      "execution_count": null,
      "metadata": {
        "id": "ut030bjUfkg6",
        "outputId": "f473bd14-9c1e-42fe-f129-22fc913e7cea"
      },
      "outputs": [
        {
          "data": {
            "text/plain": [
              "'iyiiiyiiiyiiiyiiiyii'"
            ]
          },
          "execution_count": 2,
          "metadata": {},
          "output_type": "execute_result"
        }
      ],
      "source": [
        "\"iyii\" * 5"
      ]
    },
    {
      "cell_type": "code",
      "execution_count": null,
      "metadata": {
        "id": "2PelLePnfkg7",
        "outputId": "318b9983-5177-46b0-f89c-a3efff9812b6"
      },
      "outputs": [
        {
          "name": "stdout",
          "output_type": "stream",
          "text": [
            "2\n",
            "0\n"
          ]
        }
      ],
      "source": [
        "# number of tims an element occurs in a string\n",
        "x = \"india india\"\n",
        "\n",
        "print(x.count(\"in\"))\n",
        "print(x.count(\"z\"))"
      ]
    },
    {
      "cell_type": "code",
      "execution_count": null,
      "metadata": {
        "id": "lwzCDaWEfkg9",
        "outputId": "16c71627-b13f-45f9-a807-f5c7fb40cd01"
      },
      "outputs": [
        {
          "data": {
            "text/plain": [
              "60"
            ]
          },
          "execution_count": 11,
          "metadata": {},
          "output_type": "execute_result"
        }
      ],
      "source": [
        "# Shorthand implementation\n",
        "\n",
        "x = 6\n",
        "\n",
        "#x = x + 10\n",
        "\n",
        "#x += 10\n",
        "\n",
        "#x -= 10\n",
        "\n",
        "x *= 10\n",
        "x"
      ]
    },
    {
      "cell_type": "code",
      "execution_count": null,
      "metadata": {
        "id": "29ynDriofkg-",
        "outputId": "c286094d-f71c-449e-df68-b3456f3641f6"
      },
      "outputs": [
        {
          "data": {
            "text/plain": [
              "3"
            ]
          },
          "execution_count": 23,
          "metadata": {},
          "output_type": "execute_result"
        }
      ],
      "source": [
        "import math\n",
        "\n",
        "# square root\n",
        "math.sqrt(10)\n",
        "# exp e^2\n",
        "math.exp(2)\n",
        "# Exponential operator\n",
        "2**4\n",
        "\n",
        "# rounding off\n",
        "round(3.5)\n",
        "\n",
        "# ceiling\n",
        "math.ceil(3.1)\n",
        "# floor\n",
        "math.floor(3.9)"
      ]
    },
    {
      "cell_type": "code",
      "execution_count": null,
      "metadata": {
        "scrolled": true,
        "id": "V0yJMrncfkhB",
        "outputId": "c47a0608-51f9-487b-cda1-e3f86d4be8a2"
      },
      "outputs": [
        {
          "name": "stdout",
          "output_type": "stream",
          "text": [
            "0\n",
            "5\n",
            "\n",
            "4\n"
          ]
        }
      ],
      "source": [
        "x = 7 # assignment\n",
        "\n",
        "x = 5 # assignment\n",
        "\n",
        "x == 5\n",
        "y = \"\"\n",
        "y = x-5 #\n",
        "\n",
        "print(x-5)\n",
        "print(x)\n",
        "print()\n",
        "print(math.ceil(3.1))"
      ]
    },
    {
      "cell_type": "code",
      "execution_count": null,
      "metadata": {
        "id": "EVFpdAFTfkhC",
        "outputId": "889c9ffc-e22d-402a-bf67-4c4ddfa4477a"
      },
      "outputs": [
        {
          "name": "stdout",
          "output_type": "stream",
          "text": [
            "4\n"
          ]
        }
      ],
      "source": [
        "# Functions\n",
        "\n",
        "def get_product_of_2():\n",
        "    x = 2\n",
        "    doub = x * 2\n",
        "    return doub\n",
        "\n",
        "def get_product(a):\n",
        "    return a * 2\n",
        "\n",
        "def multiply(a, b):\n",
        "    return a*b\n",
        "\n",
        "def print_greet(name):\n",
        "    print(\"Hello \", name)\n",
        "\n",
        "print(doub)"
      ]
    },
    {
      "cell_type": "code",
      "execution_count": null,
      "metadata": {
        "id": "Tvx85OSRfkhD"
      },
      "outputs": [],
      "source": [
        ""
      ]
    },
    {
      "cell_type": "code",
      "execution_count": null,
      "metadata": {
        "scrolled": true,
        "id": "_9z-zIzMfkhE",
        "outputId": "59324d71-b48f-4a05-a9b4-2b65bfdb7d11"
      },
      "outputs": [
        {
          "name": "stdout",
          "output_type": "stream",
          "text": [
            "Hello  Azfar\n",
            "None\n"
          ]
        }
      ],
      "source": [
        "y = 7\n",
        "#get_product_of_2()\n",
        "#print(get_product(y))\n",
        "\n",
        "#print(multiply(2, 3))\n",
        "\n",
        "# get_product(y)\n",
        "\n",
        "print(print_greet(\"Azfar\"))"
      ]
    },
    {
      "cell_type": "code",
      "execution_count": null,
      "metadata": {
        "scrolled": true,
        "id": "iJLzI_r2fkhG",
        "outputId": "ff5b067f-310f-4544-e90a-4b6d80242eea"
      },
      "outputs": [
        {
          "name": "stdout",
          "output_type": "stream",
          "text": [
            "inside  1\n",
            "outside  1\n",
            "Inside function 11\n",
            "outside  11\n"
          ]
        }
      ],
      "source": [
        "# Scope of a variable\n",
        "# global variables\n",
        "# local variables\n",
        "\n",
        "a = 10  # global variable\n",
        "\n",
        "def get_product_of_2():\n",
        "    a = 2  #local variable\n",
        "    a = a * 2\n",
        "    print(\"Inside function\", a)\n",
        "\n",
        "def change_value(b):\n",
        "    global a\n",
        "    a = a - b\n",
        "    print(\"Inside function\", a)\n",
        "\n",
        "# get_product_of_2()\n",
        "# print(a)\n",
        "\n",
        "if 5 > 3:\n",
        "    f = 1\n",
        "    print(\"inside \",f)\n",
        "\n",
        "print(\"outside \",f)\n",
        "\n",
        "change_value(-1)\n",
        "print(\"outside \", a)"
      ]
    },
    {
      "cell_type": "code",
      "execution_count": null,
      "metadata": {
        "id": "aluTP93_fkhI",
        "outputId": "53bd873f-2082-48e0-8730-2622fd578149"
      },
      "outputs": [
        {
          "name": "stdout",
          "output_type": "stream",
          "text": [
            "21.588989435406738 -65.58898943540675\n"
          ]
        }
      ],
      "source": [
        "# complex functions\n",
        "\n",
        "# x**2 + b*x + c\n",
        "\n",
        "a = 5\n",
        "b = 22\n",
        "c = 9\n",
        "\n",
        "def getroots(a, b, c):\n",
        "    root1 = -b+(math.sqrt((b**2)-4*a*c))/2*a\n",
        "    root2 = -b-(math.sqrt((b**2)-4*a*c))/2*a\n",
        "    return(root1, root2)\n",
        "\n",
        "root1, root2 = getroots(a, b, c)\n",
        "\n",
        "print(root1, root2)"
      ]
    },
    {
      "cell_type": "code",
      "execution_count": null,
      "metadata": {
        "id": "UwcdEIo8fkhJ",
        "outputId": "780d9895-7762-450c-b64b-9653de883250"
      },
      "outputs": [
        {
          "data": {
            "text/plain": [
              "(-12.865338900488403, -37.1346610995116)"
            ]
          },
          "execution_count": 72,
          "metadata": {},
          "output_type": "execute_result"
        }
      ],
      "source": [
        "a = 1\n",
        "b = 25\n",
        "c = 9\n",
        "getroots(a, b, c)"
      ]
    },
    {
      "cell_type": "code",
      "execution_count": null,
      "metadata": {
        "id": "GDJrouKefkhK",
        "outputId": "6ae4ce1e-94c3-49e1-b123-6a474d944187"
      },
      "outputs": [
        {
          "name": "stdout",
          "output_type": "stream",
          "text": [
            "Inside function 36\n"
          ]
        }
      ],
      "source": [
        "# Default Arguments\n",
        "# def get_product_of_2(a = 2):\n",
        "#     a = a * 2\n",
        "#     print(\"Inside function\", a)\n",
        "\n",
        "def get_product_of_2(a = 2, b = 2, c = 2):\n",
        "    a = a * b\n",
        "    print(\"Inside function\", a**c)\n",
        "\n",
        "def get_power(c, a = 2, b = 2):\n",
        "    a = a * b\n",
        "    print(\"Inside function\", a**c)\n",
        "\n",
        "#get_product_of_2()\n",
        "get_power(2, 3)"
      ]
    },
    {
      "cell_type": "code",
      "execution_count": null,
      "metadata": {
        "id": "du84_wh7fkhM",
        "outputId": "96f66a30-29fd-4cad-e1b5-989428616861"
      },
      "outputs": [
        {
          "name": "stdout",
          "output_type": "stream",
          "text": [
            "direct assignment: 8 5\n",
            "a =  8\n",
            "b =  5\n"
          ]
        }
      ],
      "source": [
        "# swapping values\n",
        "a = 5\n",
        "b = 8\n",
        "\n",
        "# third variable\n",
        "# t = a\n",
        "# a = b\n",
        "# b = t\n",
        "# print(\"Third variable:\", a, b)\n",
        "\n",
        "a, b = b, a\n",
        "print(\"direct assignment:\", a, b)\n",
        "\n",
        "def test(a, b):\n",
        "    a = a+b\n",
        "    b = a-b\n",
        "    a = a-b\n",
        "    print('a = ', a)\n",
        "    print('b = ', b)\n",
        "test(5,8)"
      ]
    },
    {
      "cell_type": "code",
      "execution_count": null,
      "metadata": {
        "id": "20_WplX7fkhO",
        "outputId": "b42d1ffe-7402-4711-ba8c-09ca57e1f393"
      },
      "outputs": [
        {
          "name": "stdout",
          "output_type": "stream",
          "text": [
            "Inside function 4\n",
            "Done..\n",
            "Inside function 3\n",
            "Done..\n",
            "Inside function 2\n",
            "Done..\n",
            "Inside function 1\n",
            "Done..\n",
            "Inside function 0\n",
            "Done..\n",
            "Outside loop\n"
          ]
        }
      ],
      "source": [
        "# Loops(iterative)\n",
        "a = 5\n",
        "def change_value(b):\n",
        "    global a\n",
        "    a = a - b\n",
        "    print(\"Inside function\", a)\n",
        "# while loop\n",
        "while a > 0:\n",
        "    change_value(1)\n",
        "    print(\"Done..\")\n",
        "print(\"Outside loop\")"
      ]
    },
    {
      "cell_type": "code",
      "execution_count": null,
      "metadata": {
        "scrolled": false,
        "id": "EKkb7xJwfkhP",
        "outputId": "fd30b365-8bdd-45aa-e1cf-392446a49979"
      },
      "outputs": [
        {
          "name": "stdout",
          "output_type": "stream",
          "text": [
            "III\n",
            "nnn\n",
            "ddd\n",
            "iii\n",
            "aaa\n"
          ]
        },
        {
          "ename": "IndexError",
          "evalue": "string index out of range",
          "output_type": "error",
          "traceback": [
            "\u001b[1;31m---------------------------------------------------------------------------\u001b[0m",
            "\u001b[1;31mIndexError\u001b[0m                                Traceback (most recent call last)",
            "\u001b[1;32m<ipython-input-104-ee7fe3c65b70>\u001b[0m in \u001b[0;36m<module>\u001b[1;34m\u001b[0m\n\u001b[0;32m      5\u001b[0m \u001b[1;33m\u001b[0m\u001b[0m\n\u001b[0;32m      6\u001b[0m \u001b[1;32mfor\u001b[0m \u001b[0mi\u001b[0m \u001b[1;32min\u001b[0m \u001b[0mrange\u001b[0m\u001b[1;33m(\u001b[0m\u001b[1;36m0\u001b[0m\u001b[1;33m,\u001b[0m \u001b[0mlen\u001b[0m\u001b[1;33m(\u001b[0m\u001b[0mstring\u001b[0m\u001b[1;33m)\u001b[0m \u001b[1;33m+\u001b[0m \u001b[1;36m1\u001b[0m\u001b[1;33m)\u001b[0m\u001b[1;33m:\u001b[0m\u001b[1;33m\u001b[0m\u001b[0m\n\u001b[1;32m----> 7\u001b[1;33m     \u001b[0mprint\u001b[0m\u001b[1;33m(\u001b[0m\u001b[0mstring\u001b[0m\u001b[1;33m[\u001b[0m\u001b[0mi\u001b[0m\u001b[1;33m]\u001b[0m \u001b[1;33m*\u001b[0m \u001b[1;36m3\u001b[0m\u001b[1;33m)\u001b[0m\u001b[1;33m\u001b[0m\u001b[0m\n\u001b[0m",
            "\u001b[1;31mIndexError\u001b[0m: string index out of range"
          ]
        }
      ],
      "source": [
        "# for loop\n",
        "string = \"India\"\n",
        "# for i in string:\n",
        "#     print(i * 3)\n",
        "\n",
        "for i in range(0, len(string) + 1):\n",
        "    print(string[i] * 3)"
      ]
    },
    {
      "cell_type": "code",
      "execution_count": null,
      "metadata": {
        "id": "5H9Qpsr_fkhQ",
        "outputId": "d845c509-650c-467a-d06a-baffabc69b0e"
      },
      "outputs": [
        {
          "name": "stdout",
          "output_type": "stream",
          "text": [
            "6\n"
          ]
        },
        {
          "data": {
            "text/plain": [
              "5.1"
            ]
          },
          "execution_count": 14,
          "metadata": {},
          "output_type": "execute_result"
        }
      ],
      "source": [
        "# DATA STRUCTURES\n",
        "\n",
        "# Arrays\n",
        "## list(linked list)((mutable))\n",
        "# x = [\"ananya\", \"srishti\", \"jaishree\"]\n",
        "x = [1, 2, 4, 10, 5.1, \"azfar\"]\n",
        "\n",
        "print(len(x))\n",
        "x[-2]"
      ]
    },
    {
      "cell_type": "code",
      "execution_count": null,
      "metadata": {
        "id": "91fVkMYEfkhR",
        "outputId": "32d11680-ec41-4080-e484-0bdd10345215"
      },
      "outputs": [
        {
          "name": "stdout",
          "output_type": "stream",
          "text": [
            "1 2 3\n"
          ]
        },
        {
          "data": {
            "text/plain": [
              "['1', '2', '3', '4', '5']"
            ]
          },
          "execution_count": 94,
          "metadata": {},
          "output_type": "execute_result"
        }
      ],
      "source": [
        "string = \"1 2 3 4 5 6 7 8 9 0\"\n",
        "print(string[0:5])\n",
        "\n",
        "arr = string.split(\" \")\n",
        "arr[0:5]"
      ]
    },
    {
      "cell_type": "code",
      "execution_count": null,
      "metadata": {
        "id": "TcWfk9AKfkhS",
        "outputId": "91272887-d580-4f36-ecfb-f328aaf96fe6"
      },
      "outputs": [
        {
          "data": {
            "text/plain": [
              "[1, 2, 4, 100, 10, 5.1, 'azfar', 6]"
            ]
          },
          "execution_count": 12,
          "metadata": {},
          "output_type": "execute_result"
        }
      ],
      "source": [
        "# Adding new elements\n",
        "x = [1, 2, 4, 10, 5.1, \"azfar\"]\n",
        "\n",
        "x.append(6)  # add element at the end of the list\n",
        "\n",
        "x.insert(3, 100) # add element at an index\n",
        "x"
      ]
    },
    {
      "cell_type": "code",
      "execution_count": null,
      "metadata": {
        "id": "A1UhuXa8fkhT",
        "outputId": "1e515ac7-5a59-4bd3-db76-ab821071df97"
      },
      "outputs": [
        {
          "data": {
            "text/plain": [
              "[1, 2, 4, 100, 10, 5.1, 'azfar', 6, 3]"
            ]
          },
          "execution_count": 13,
          "metadata": {},
          "output_type": "execute_result"
        }
      ],
      "source": [
        "# important\n",
        "x.insert(100, 3)\n",
        "x"
      ]
    },
    {
      "cell_type": "code",
      "execution_count": null,
      "metadata": {
        "id": "KG6Uq4hqfkhU",
        "outputId": "71c3c619-435f-45f7-9481-c6804e3dea69"
      },
      "outputs": [
        {
          "name": "stdout",
          "output_type": "stream",
          "text": [
            "4\n"
          ]
        },
        {
          "data": {
            "text/plain": [
              "[1, 2, 10, 5.1, 'azfar']"
            ]
          },
          "execution_count": 26,
          "metadata": {},
          "output_type": "execute_result"
        }
      ],
      "source": [
        "# Removing elements\n",
        "\n",
        "x = [1, 2, 4, 10, 5.1, \"azfar\"]\n",
        "\n",
        "print(x.pop(2)) # removes from index number\n",
        "#print(x.pop())\n",
        "x"
      ]
    },
    {
      "cell_type": "code",
      "execution_count": null,
      "metadata": {
        "id": "mlgAldlEfkhW",
        "outputId": "1fee803a-9657-4509-a45c-e6608c3c1304"
      },
      "outputs": [
        {
          "data": {
            "text/plain": [
              "[1, 2, 5.1]"
            ]
          },
          "execution_count": 10,
          "metadata": {},
          "output_type": "execute_result"
        }
      ],
      "source": [
        "# Removing elements\n",
        "x.pop(2) # removes from index number\n",
        "print(x.pop())\n",
        "\n",
        "x.remove(\"azfar\") # removes the element passed in arguments\n",
        "x"
      ]
    },
    {
      "cell_type": "code",
      "execution_count": null,
      "metadata": {
        "id": "T0ucVT_6fkhX",
        "outputId": "96f4ada7-426b-46bc-c055-3d771b56a2a5"
      },
      "outputs": [
        {
          "data": {
            "text/plain": [
              "2"
            ]
          },
          "execution_count": 86,
          "metadata": {},
          "output_type": "execute_result"
        }
      ],
      "source": [
        "# number of tims an element occurs in a list\n",
        "x = [4, 5, 23, 5, 4, 5]\n",
        "\n",
        "x.count(4)"
      ]
    },
    {
      "cell_type": "code",
      "execution_count": null,
      "metadata": {
        "id": "vnFalcXkfkhZ",
        "outputId": "d5a267ec-80f0-4e53-da3d-2b85fea78dd0"
      },
      "outputs": [
        {
          "name": "stdout",
          "output_type": "stream",
          "text": [
            "False\n",
            "present at index: 2\n"
          ]
        }
      ],
      "source": [
        "\n",
        "x = [1, 2, 4, 10, 5.1, 'azfar']\n",
        "\n",
        "# check if value is in list\n",
        "print(100 in x)\n",
        "\n",
        "\n",
        "n = 4\n",
        "if n in x:\n",
        "    print(\"present at index:\", x.index(n))\n",
        "else:\n",
        "    print(n, \"is not in list\")"
      ]
    },
    {
      "cell_type": "code",
      "execution_count": null,
      "metadata": {
        "id": "6EabgWamfkha",
        "outputId": "ff09e6ca-4db9-4c80-f03d-c626ca7f75bd"
      },
      "outputs": [
        {
          "name": "stdout",
          "output_type": "stream",
          "text": [
            "2 3\n",
            "2\n"
          ]
        },
        {
          "data": {
            "text/plain": [
              "2"
            ]
          },
          "execution_count": 33,
          "metadata": {},
          "output_type": "execute_result"
        }
      ],
      "source": [
        "# Tuple(immutable)\n",
        "t = (1, 2, 2, 3)\n",
        "t[0]\n",
        "\n",
        "def getprices():\n",
        "    return 2, 3\n",
        "\n",
        "a, b = getprices()\n",
        "print(a, b)\n",
        "c = getprices()\n",
        "print(c[0])\n",
        "\n",
        "\n",
        "getprices()[0]"
      ]
    },
    {
      "cell_type": "code",
      "execution_count": null,
      "metadata": {
        "id": "01x15UI7fkhb",
        "outputId": "07158ad0-83cc-4084-a1fe-90a2093fa14d"
      },
      "outputs": [
        {
          "data": {
            "text/plain": [
              "tuple"
            ]
          },
          "execution_count": 38,
          "metadata": {},
          "output_type": "execute_result"
        }
      ],
      "source": [
        "x = [4, 5, 23, 5]\n",
        "type(x)\n",
        "\n",
        "type(tuple(x))"
      ]
    },
    {
      "cell_type": "code",
      "execution_count": null,
      "metadata": {
        "scrolled": true,
        "id": "BEP7ygMjfkhd",
        "outputId": "f7badac5-99a4-41f1-ed87-572ea73e0c75"
      },
      "outputs": [
        {
          "data": {
            "text/plain": [
              "{1, 2, 3, 4}"
            ]
          },
          "execution_count": 40,
          "metadata": {},
          "output_type": "execute_result"
        }
      ],
      "source": [
        "# SETS(mutable)\n",
        "# sets do not have indexes\n",
        "set1 = {1, 2, 2, 3, 4}\n",
        "set2 = set((1, 2, 2, 3, 4))\n",
        "\n",
        "set2"
      ]
    },
    {
      "cell_type": "code",
      "execution_count": null,
      "metadata": {
        "id": "J2lpLly1fkhe",
        "outputId": "a5a1f2ec-b53c-4237-e747-4d63d48db39c"
      },
      "outputs": [
        {
          "name": "stdout",
          "output_type": "stream",
          "text": [
            "{1, 2, 3, 4, 5}\n",
            "{1, 2, 3, 4, 5}\n"
          ]
        }
      ],
      "source": [
        "set2.add(5)\n",
        "print(set2)\n",
        "set2.add(5)\n",
        "print(set2)"
      ]
    },
    {
      "cell_type": "code",
      "execution_count": null,
      "metadata": {
        "id": "N32UNiksfkhg",
        "outputId": "e78f4bf6-510f-4497-d1b2-c70cdbfeca93"
      },
      "outputs": [
        {
          "data": {
            "text/plain": [
              "{1, 2, 3, 5}"
            ]
          },
          "execution_count": 43,
          "metadata": {},
          "output_type": "execute_result"
        }
      ],
      "source": [
        "set2.remove(4)\n",
        "set2"
      ]
    },
    {
      "cell_type": "code",
      "execution_count": null,
      "metadata": {
        "id": "0KqYUHFsfkhh",
        "outputId": "039d92fd-c6a5-4256-c579-e15c2b9bdeab"
      },
      "outputs": [
        {
          "name": "stdout",
          "output_type": "stream",
          "text": [
            "A union B: {1, 2, 3, 4, 5, 6, 7, 8}\n",
            "A intersection B: {4, 5}\n",
            "<class 'set'>\n",
            "A - B {1, 2, 3}\n",
            "A symdiff B {1, 2, 3, 6, 7, 8}\n"
          ]
        }
      ],
      "source": [
        "# set operations\n",
        "\n",
        "A = {1,2,3,4,5}\n",
        "B = {4,5,6,7,8}\n",
        "\n",
        "#union\n",
        "print(\"A union B:\", A.union(B))\n",
        "\n",
        "# intersection\n",
        "print(\"A intersection B:\", A.intersection(B))\n",
        "print(type(A.intersection(B)))\n",
        "\n",
        "# difference\n",
        "print(\"A - B\", A.difference(B))\n",
        "\n",
        "# symmetric difference\n",
        "# (A.union(B)).difference(A.intersection(B))\n",
        "## (A u B) - (A n B)\n",
        "print(\"A symdiff B\", A.symmetric_difference(B))"
      ]
    },
    {
      "cell_type": "code",
      "execution_count": 1,
      "metadata": {
        "colab": {
          "base_uri": "https://localhost:8080/"
        },
        "id": "hKIGM27ifkhi",
        "outputId": "669713b4-78d2-47f3-bd81-4419cb2afcb3"
      },
      "outputs": [
        {
          "output_type": "stream",
          "name": "stdout",
          "text": [
            "Rohit\n",
            "<class 'dict'>\n"
          ]
        },
        {
          "output_type": "execute_result",
          "data": {
            "text/plain": [
              "dict_keys(['first_name', 'last_name', 'rollno', 10])"
            ]
          },
          "metadata": {},
          "execution_count": 1
        }
      ],
      "source": [
        "# DICTIONARY(Hash maps)(mutable)\n",
        "student1 = {\n",
        "    \"first_name\": \"Rohit\",\n",
        "    \"last_name\": \"Goyal\",\n",
        "    \"rollno\": 1,\n",
        "    10: \"ten\"\n",
        "}\n",
        "\n",
        "student2 = {\n",
        "    \"first_name\": \"rahul\",\n",
        "    \"last_name\": \"Mendiratta\",\n",
        "    \"rollno\": 2,\n",
        "    10: \"ten\"\n",
        "}\n",
        "\n",
        "print(student1[\"first_name\"])\n",
        "print(type(student1))\n",
        "\n",
        "student1.keys()"
      ]
    },
    {
      "cell_type": "code",
      "execution_count": null,
      "metadata": {
        "id": "Ft33K98Yfkhk",
        "outputId": "96ed5734-ecad-4dec-969f-88eaba8b4100"
      },
      "outputs": [
        {
          "name": "stdout",
          "output_type": "stream",
          "text": [
            "Jaishree\n",
            "ten\n"
          ]
        }
      ],
      "source": [
        "# Nesting\n",
        "\n",
        "students = [student1, student2]\n",
        "\n",
        "print(students[1][\"first_name\"])\n",
        "\n",
        "print(students[1][10])"
      ]
    },
    {
      "cell_type": "code",
      "execution_count": null,
      "metadata": {
        "id": "5FWg8aj_fkhl",
        "outputId": "432b2a7c-fb16-4f6a-a3d9-d68b8ceef0ac"
      },
      "outputs": [
        {
          "name": "stdout",
          "output_type": "stream",
          "text": [
            "Ananya\n",
            "None\n",
            "student\n"
          ]
        }
      ],
      "source": [
        "# getting an value from dict using the key\n",
        "print(student1.get(\"first_name\"))\n",
        "\n",
        "print(student1.get(\"name\"))\n",
        "\n",
        "# default value is used of key is not present\n",
        "print(student1.get(\"name\", \"student\"))"
      ]
    },
    {
      "cell_type": "code",
      "execution_count": null,
      "metadata": {
        "id": "0eJnyWtffkhn",
        "outputId": "497b7c03-698b-4c66-a1bc-4a6b550fdc06"
      },
      "outputs": [
        {
          "name": "stdout",
          "output_type": "stream",
          "text": [
            "Enter a number: 4\n",
            "not found\n"
          ]
        }
      ],
      "source": [
        "digit_mapping = {\n",
        "    1: \"one\",\n",
        "    2: \"two\",\n",
        "    3: \"three\"\n",
        "}\n",
        "\n",
        "num = int(input(\"Enter a number: \"))\n",
        "print(digit_mapping.get(num, \"not found\"))"
      ]
    },
    {
      "cell_type": "code",
      "execution_count": null,
      "metadata": {
        "id": "xHwN3tsVfkho",
        "outputId": "2939a4d2-4061-4523-a0a9-b05f0e51243b"
      },
      "outputs": [
        {
          "name": "stdout",
          "output_type": "stream",
          "text": [
            "{'first_name': 'name1'}\n",
            "{'first_name': 'Ananya', 'course': 'Data Science'}\n"
          ]
        }
      ],
      "source": [
        "# change key values in dict\n",
        "# student1 = {\n",
        "#     \"first_name\": \"Ananya\",\n",
        "#     \"last_name\": \"Singh\",\n",
        "#     \"rollno\": 1,\n",
        "#     10: \"ten\"\n",
        "# }\n",
        "\n",
        "student1 = {}\n",
        "\n",
        "student1[\"first_name\"] = \"name1\"\n",
        "\n",
        "print(student1)\n",
        "\n",
        "\n",
        "student1.update({\n",
        "    \"first_name\": \"Ananya\",\n",
        "    \"course\": \"Data Science\"\n",
        "})\n",
        "print(student1)"
      ]
    },
    {
      "cell_type": "code",
      "execution_count": null,
      "metadata": {
        "id": "yO0Wg_IBfkhp",
        "outputId": "8f67ccfe-f47e-45ae-9e18-7bae19bfb53b"
      },
      "outputs": [
        {
          "name": "stdout",
          "output_type": "stream",
          "text": [
            "{'first_name': 'Ananya'}\n",
            "{}\n"
          ]
        }
      ],
      "source": [
        "# deleting keys from dict\n",
        "student1.pop(\"course\")\n",
        "\n",
        "print(student1)\n",
        "\n",
        "del student1[\"first_name\"]\n",
        "\n",
        "print(student1)"
      ]
    },
    {
      "cell_type": "code",
      "execution_count": null,
      "metadata": {
        "scrolled": true,
        "id": "BFPPA3Tufkhr",
        "outputId": "8360b558-9725-4fee-b0be-3b6c2f427e38"
      },
      "outputs": [
        {
          "name": "stdout",
          "output_type": "stream",
          "text": [
            "{}\n"
          ]
        },
        {
          "ename": "NameError",
          "evalue": "name 'student1' is not defined",
          "output_type": "error",
          "traceback": [
            "\u001b[1;31m---------------------------------------------------------------------------\u001b[0m",
            "\u001b[1;31mNameError\u001b[0m                                 Traceback (most recent call last)",
            "\u001b[1;32m<ipython-input-83-05dfcc4f5547>\u001b[0m in \u001b[0;36m<module>\u001b[1;34m\u001b[0m\n\u001b[0;32m      5\u001b[0m \u001b[1;32mdel\u001b[0m \u001b[0mstudent1\u001b[0m\u001b[1;33m\u001b[0m\u001b[0m\n\u001b[0;32m      6\u001b[0m \u001b[1;33m\u001b[0m\u001b[0m\n\u001b[1;32m----> 7\u001b[1;33m \u001b[0mprint\u001b[0m\u001b[1;33m(\u001b[0m\u001b[0mstudent1\u001b[0m\u001b[1;33m)\u001b[0m\u001b[1;33m\u001b[0m\u001b[0m\n\u001b[0m",
            "\u001b[1;31mNameError\u001b[0m: name 'student1' is not defined"
          ]
        }
      ],
      "source": [
        "student1 = {}\n",
        "\n",
        "print(student1)\n",
        "\n",
        "del student1\n",
        "\n",
        "print(student1)"
      ]
    },
    {
      "cell_type": "code",
      "execution_count": null,
      "metadata": {
        "id": "1RClXhPRfkhs"
      },
      "outputs": [],
      "source": [
        "# Linked list\n",
        "## node1 -> node2 -> node3"
      ]
    }
  ],
  "metadata": {
    "kernelspec": {
      "display_name": "Python 3",
      "language": "python",
      "name": "python3"
    },
    "language_info": {
      "codemirror_mode": {
        "name": "ipython",
        "version": 3
      },
      "file_extension": ".py",
      "mimetype": "text/x-python",
      "name": "python",
      "nbconvert_exporter": "python",
      "pygments_lexer": "ipython3",
      "version": "3.7.0"
    },
    "colab": {
      "name": "Python part 3.ipynb",
      "provenance": [],
      "include_colab_link": true
    }
  },
  "nbformat": 4,
  "nbformat_minor": 0
}