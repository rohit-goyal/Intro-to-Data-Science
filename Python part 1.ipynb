{
 "cells": [
  {
   "cell_type": "code",
   "execution_count": null,
   "metadata": {},
   "outputs": [],
   "source": [
    "## BOOLEAN ALGEBRA\n",
    "\n",
    "0   0000 0000\n",
    "1   0000 0001\n",
    "2   0000 0010\n",
    "3   0000 0011\n",
    "4   0000 0100\n",
    "5   0000 0101\n",
    "6   0000 0110\n",
    "7   0000 0111\n",
    "\n",
    "# 8 bits are 1 byte"
   ]
  },
  {
   "cell_type": "code",
   "execution_count": 44,
   "metadata": {},
   "outputs": [
    {
     "name": "stdout",
     "output_type": "stream",
     "text": [
      "<class 'str'>\n",
      "<class 'int'>\n",
      "Country: India Population: 1.3B Capital: Delhi States: 29\n",
      "Country: USA Population: 360M Capital: DC States: 50\n",
      "200\n"
     ]
    },
    {
     "data": {
      "text/plain": [
       "NoneType"
      ]
     },
     "execution_count": 44,
     "metadata": {},
     "output_type": "execute_result"
    }
   ],
   "source": [
    "# VARIABLE AND DATATYPES\n",
    "variable1 = \"India\"\n",
    "print(type(variable1))\n",
    "variable2 = 2\n",
    "\n",
    "variable1 = 1\n",
    "print(type(variable1))\n",
    "\n",
    "# String\n",
    "str1 = \"ABCDazdbd-23|{}\"\n",
    "\n",
    "str2 = \"India\"\n",
    "str3 = 'Country: {} Population: {} Capital: {} States: {}'\n",
    "print(str3.format(\"India\", \"1.3B\", \"Delhi\", \"29\"))\n",
    "print(str3.format(\"USA\", \"360M\", \"DC\", \"50\"))\n",
    "()\n",
    "\n",
    "\n",
    "# print(str3)\n",
    "# str = f'Country: {str2}'\n",
    "# print(str3)\n",
    "# Integer\n",
    "# -2^16 to +2^16\n",
    "x = 10\n",
    "y = 20\n",
    "print(x*y)\n",
    "# Boolean\n",
    "x = True\n",
    "y = False\n",
    "\n",
    "# Floating point\n",
    "# -2^32 to +2^32\n",
    "x = 1.5\n",
    "# Double\n",
    "# -2^64 to +2^64\n",
    "x = 1.0000000000000000000000002\n",
    "\n",
    "# None or NULL or NaN\n",
    "type(None)"
   ]
  },
  {
   "cell_type": "code",
   "execution_count": 16,
   "metadata": {},
   "outputs": [
    {
     "data": {
      "text/plain": [
       "False"
      ]
     },
     "execution_count": 16,
     "metadata": {},
     "output_type": "execute_result"
    }
   ],
   "source": [
    "# OPERATIONS\n",
    "\n",
    "## LOGICAL OPERATIONS\n",
    "# and   \n",
    "# not   # unary\n",
    "# or\n",
    "\n",
    "x = True\n",
    "# print(\"not True = \", not x)\n",
    "\n",
    "# print(\"True or False = \", True or False)\n",
    "# print(\"True and False and True = \", True and False and True)\n",
    "\n",
    "\"\"\"\n",
    "    A    B     or    and    not a   not b   a ^ b\n",
    "    0    0     0      0      1        1       0\n",
    "    0    1     1      0      1        0       1\n",
    "    1    0     1      0      0        1       1\n",
    "    1    1     1      1      0        0       0\n",
    "\"\"\"\n",
    "\n",
    "# Precedence\n",
    "# NOT\n",
    "# AND \n",
    "# OR\n",
    "\n",
    "(False) and (True) or ((True or False) and not (False or True))"
   ]
  },
  {
   "cell_type": "code",
   "execution_count": 12,
   "metadata": {
    "scrolled": true
   },
   "outputs": [
    {
     "name": "stdout",
     "output_type": "stream",
     "text": [
      "5 / 3 =  1.6666666666666667\n",
      "5 // 3 =  1\n",
      "5 % 3 =  2\n"
     ]
    }
   ],
   "source": [
    "## ARITHMETIC OPERATIONS\n",
    "### addition +\n",
    "### subtraction as -\n",
    "### multiplication *\n",
    "### Division /, //\n",
    "### Exponential ^\n",
    "print(\"5 / 3 = \", 5 / 3)\n",
    "print(\"5 // 3 = \", 5 // 3)\n",
    "### Modulus %\n",
    "print(\"5 % 3 = \", 5 % 3)"
   ]
  },
  {
   "cell_type": "code",
   "execution_count": 43,
   "metadata": {},
   "outputs": [
    {
     "data": {
      "text/plain": [
       "25"
      ]
     },
     "execution_count": 43,
     "metadata": {},
     "output_type": "execute_result"
    }
   ],
   "source": [
    "# BODMAS\n",
    "\n",
    "# Brackets\n",
    "# Exponential\n",
    "# Multiplication\n",
    "# Div(/) Mod(%) FDiv(//)\n",
    "# Addition\n",
    "# Subtraction\n",
    "\n",
    "5 * 32 // (2 ^ 4) - 9 % 2"
   ]
  },
  {
   "cell_type": "code",
   "execution_count": 48,
   "metadata": {},
   "outputs": [
    {
     "name": "stdout",
     "output_type": "stream",
     "text": [
      "2 == 3: False\n",
      "2 != 3: True\n",
      "2 < 3: True\n",
      "2 > 3: False\n",
      "3 >= 3: True\n",
      "3 > 3: False\n"
     ]
    },
    {
     "data": {
      "text/plain": [
       "True"
      ]
     },
     "execution_count": 48,
     "metadata": {},
     "output_type": "execute_result"
    }
   ],
   "source": [
    "## RELATIONAL OPERATIONS\n",
    "\n",
    "### ==, <, >, <=, >=, !=\n",
    "\n",
    "print(\"2 == 3:\", 2==3)\n",
    "print(\"2 != 3:\", 2!=3)\n",
    "\n",
    "print(\"2 < 3:\", 2<3)\n",
    "print(\"2 > 3:\", 2>3)\n",
    "\n",
    "print(\"3 >= 3:\", 3>=3)\n",
    "print(\"3 > 3:\", 3>3)\n",
    "\n",
    "x = \"in\"\n",
    "\n",
    "x is not None"
   ]
  },
  {
   "cell_type": "code",
   "execution_count": 33,
   "metadata": {},
   "outputs": [
    {
     "name": "stdout",
     "output_type": "stream",
     "text": [
      "Odd number\n",
      "Ending program..\n",
      "Hello\n",
      "Done\n"
     ]
    }
   ],
   "source": [
    "# CONDITIONAL STATEMENTS\n",
    "## if\n",
    "x = 2\n",
    "y = 99\n",
    "\n",
    "if y % 2 != 0:\n",
    "    print(\"Odd number\")\n",
    "    print(\"Ending program..\")\n",
    "print(\"Hello\")\n",
    "if y % 2 == 0:\n",
    "    print(\"Even Number\")\n",
    "print(\"Done\")"
   ]
  },
  {
   "cell_type": "code",
   "execution_count": 35,
   "metadata": {},
   "outputs": [
    {
     "name": "stdout",
     "output_type": "stream",
     "text": [
      "Even Number\n",
      "Done\n"
     ]
    }
   ],
   "source": [
    "## if-else\n",
    "x = 2\n",
    "y = 98\n",
    "\n",
    "if y % 2 != 0:\n",
    "    print(\"Odd number\")\n",
    "    print(\"Ending program..\")\n",
    "else:\n",
    "    print(\"Even Number\")\n",
    "print(\"Done\")"
   ]
  },
  {
   "cell_type": "code",
   "execution_count": 39,
   "metadata": {},
   "outputs": [
    {
     "name": "stdout",
     "output_type": "stream",
     "text": [
      "The number is positive\n",
      "Done\n"
     ]
    }
   ],
   "source": [
    "## if-elif-else\n",
    "choice = 100\n",
    "\n",
    "if choice > 0:\n",
    "    print(\"The number is positive\")\n",
    "elif choice == 0:\n",
    "    print(\"The number is zero\")\n",
    "elif choice >= 100:\n",
    "    print(\"The number is greater than 100\")\n",
    "else:\n",
    "    print(\"The number is negative\")\n",
    "print(\"Done\")"
   ]
  },
  {
   "cell_type": "code",
   "execution_count": 58,
   "metadata": {},
   "outputs": [
    {
     "name": "stdout",
     "output_type": "stream",
     "text": [
      "Length: 7\n",
      "s\n",
      "str\n",
      "g\n",
      "str\n",
      "str\n",
      "s\n"
     ]
    }
   ],
   "source": [
    "# Strings\n",
    "x = \"string1\"\n",
    "\n",
    "print(\"Length:\", len(x))\n",
    "\n",
    "print(x[0])\n",
    "print(x[0:3])\n",
    "print(x[-2])\n",
    "print(x[0:3])\n",
    "\n",
    "print(x[0:-4])\n",
    "\n",
    "print(x[-len(x)])"
   ]
  },
  {
   "cell_type": "code",
   "execution_count": 68,
   "metadata": {},
   "outputs": [
    {
     "name": "stdout",
     "output_type": "stream",
     "text": [
      "MINNESOTA MINNESOTA\n",
      "minnesota minnesota\n",
      "Minnesota minnesota\n",
      "2\n",
      "5\n",
      "15\n"
     ]
    }
   ],
   "source": [
    "x = \"minnesOta minnesota\"\n",
    "\n",
    "print(x.upper())\n",
    "print(x.lower())\n",
    "print(x.capitalize())\n",
    "print(x.count(\"min\"))\n",
    "print(x.find(\"s\"))   # index number of a character else -1\n",
    "print(x.rfind(\"s\"))   # index number of last occurence a character else -1"
   ]
  },
  {
   "cell_type": "code",
   "execution_count": 83,
   "metadata": {},
   "outputs": [
    {
     "name": "stdout",
     "output_type": "stream",
     "text": [
      "False\n",
      "False\n",
      "False\n",
      "['minnes', ' taminne sota']\n"
     ]
    },
    {
     "data": {
      "text/plain": [
       "'India '"
      ]
     },
     "execution_count": 83,
     "metadata": {},
     "output_type": "execute_result"
    }
   ],
   "source": [
    "x = \"minnes01 taminne sota\"\n",
    "#x = \"5\"\n",
    "\n",
    "print(x.isalpha())\n",
    "print(x.isnumeric())\n",
    "print(x.isalnum())\n",
    "\n",
    "print(x.split(\"01\"))\n",
    "\n",
    "x = \"India \"\n",
    "y = \"India\"\n",
    "x#.strip()# == y.strip()"
   ]
  },
  {
   "cell_type": "code",
   "execution_count": 84,
   "metadata": {},
   "outputs": [
    {
     "data": {
      "text/plain": [
       "'India'"
      ]
     },
     "execution_count": 84,
     "metadata": {},
     "output_type": "execute_result"
    }
   ],
   "source": [
    "x.strip()"
   ]
  },
  {
   "cell_type": "code",
   "execution_count": 88,
   "metadata": {},
   "outputs": [
    {
     "data": {
      "text/plain": [
       "False"
      ]
     },
     "execution_count": 88,
     "metadata": {},
     "output_type": "execute_result"
    }
   ],
   "source": [
    "x = \"india\"\n",
    "y = \"India\"\n",
    "x == y"
   ]
  },
  {
   "cell_type": "code",
   "execution_count": 89,
   "metadata": {},
   "outputs": [
    {
     "data": {
      "text/plain": [
       "True"
      ]
     },
     "execution_count": 89,
     "metadata": {},
     "output_type": "execute_result"
    }
   ],
   "source": [
    "# ASCII VALUES\n",
    "\"\"\"\n",
    "A-Z : 65 - 90\n",
    "a-z : 97 - 122\n",
    "\n",
    "0-9 : 48 - 57\n",
    "\n",
    "\" \" : 32\n",
    "\"\"\"\n",
    "\n",
    "x = \"a\"\n",
    "y = \"b\"\n",
    "x < y"
   ]
  }
 ],
 "metadata": {
  "kernelspec": {
   "display_name": "Python 3",
   "language": "python",
   "name": "python3"
  },
  "language_info": {
   "codemirror_mode": {
    "name": "ipython",
    "version": 3
   },
   "file_extension": ".py",
   "mimetype": "text/x-python",
   "name": "python",
   "nbconvert_exporter": "python",
   "pygments_lexer": "ipython3",
   "version": "3.7.0"
  }
 },
 "nbformat": 4,
 "nbformat_minor": 2
}
